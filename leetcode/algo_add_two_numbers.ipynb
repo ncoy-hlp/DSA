{
 "cells": [
  {
   "cell_type": "code",
   "execution_count": 1,
   "metadata": {},
   "outputs": [],
   "source": [
    "%load_ext lab_black"
   ]
  },
  {
   "cell_type": "code",
   "execution_count": 2,
   "metadata": {},
   "outputs": [],
   "source": [
    "# You are given two non-empty linked lists representing two non-negative integers. The digits are stored in reverse order, and each of their nodes contains a single digit. Add the two numbers and return the sum as a linked list.\n",
    "\n",
    "# You may assume the two numbers do not contain any leading zero, except the number 0 itself.\n",
    "\n",
    "\n",
    "# Example 1:\n",
    "\n",
    "\n",
    "# Input: l1 = [2,4,3], l2 = [5,6,4]\n",
    "# Output: [7,0,8]\n",
    "# Explanation: 342 + 465 = 807.\n",
    "# Example 2:\n",
    "\n",
    "# Input: l1 = [0], l2 = [0]\n",
    "# Output: [0]\n",
    "# Example 3:\n",
    "\n",
    "# Input: l1 = [9,9,9,9,9,9,9], l2 = [9,9,9,9]\n",
    "# Output: [8,9,9,9,0,0,0,1]\n",
    "\n",
    "\n",
    "# Constraints:\n",
    "\n",
    "# The number of nodes in each linked list is in the range [1, 100].\n",
    "# 0 <= Node.val <= 9\n",
    "# It is guaranteed that the list represents a number that does not have leading zeros.\n",
    "# Accepted\n",
    "# 3.4M\n",
    "# Submissions\n",
    "# 8.6M\n",
    "# Acceptance Rate\n",
    "# 40.2%"
   ]
  },
  {
   "cell_type": "code",
   "execution_count": 3,
   "metadata": {},
   "outputs": [],
   "source": [
    "from typing import Optional"
   ]
  },
  {
   "cell_type": "code",
   "execution_count": 4,
   "metadata": {},
   "outputs": [],
   "source": [
    "class ListNode:\n",
    "    def __init__(self, val=0, next=None):\n",
    "        self.val = val\n",
    "        self.next = next\n",
    "\n",
    "    def __repr__(self):\n",
    "        return f\"Node( value:'{self.val}', next '{self.next}')\""
   ]
  },
  {
   "cell_type": "code",
   "execution_count": 5,
   "metadata": {},
   "outputs": [],
   "source": [
    "# using recursion to extract the number as a string\n",
    "# from the linked list\n",
    "def convert_linked_list_num(node):\n",
    "    if node.next:\n",
    "        return str(node.val) + convert_linked_list_num(node=node.next)\n",
    "    else:\n",
    "        return str(node.val)"
   ]
  },
  {
   "cell_type": "code",
   "execution_count": 6,
   "metadata": {},
   "outputs": [],
   "source": [
    "# converts a number that is a string into a linked\n",
    "# list in reverse order\n",
    "def generate_linked_list(number):\n",
    "    for index in range(len(number)):\n",
    "        if index == 0:\n",
    "            previous_node = ListNode(val=number[index], next=None)\n",
    "        else:\n",
    "            current_node = ListNode(val=number[index], next=previous_node)\n",
    "            previous_node = current_node\n",
    "    return previous_node"
   ]
  },
  {
   "cell_type": "code",
   "execution_count": 7,
   "metadata": {},
   "outputs": [],
   "source": [
    "class Solution:\n",
    "    def addTwoNumbers(\n",
    "        self, l1: Optional[ListNode], l2: Optional[ListNode]\n",
    "    ) -> Optional[ListNode]:\n",
    "        l1_val = convert_linked_list_num(l1)\n",
    "        l2_val = convert_linked_list_num(l2)\n",
    "        added_value = str(int(l2_val[::-1]) + int(l1_val[::-1]))\n",
    "        return generate_linked_list(added_value)"
   ]
  },
  {
   "cell_type": "code",
   "execution_count": 8,
   "metadata": {},
   "outputs": [],
   "source": [
    "s1 = Solution()"
   ]
  },
  {
   "cell_type": "code",
   "execution_count": 9,
   "metadata": {},
   "outputs": [],
   "source": [
    "l1 = ListNode(val=2, next=ListNode(val=4, next=ListNode(val=9, next=None)))\n",
    "l2 = ListNode(\n",
    "    val=5, next=ListNode(val=6, next=ListNode(val=4, next=ListNode(val=9, next=None)))\n",
    ")"
   ]
  },
  {
   "cell_type": "code",
   "execution_count": 10,
   "metadata": {},
   "outputs": [
    {
     "data": {
      "text/plain": [
       "Node( value:'7', next 'Node( value:'0', next 'Node( value:'4', next 'Node( value:'0', next 'Node( value:'1', next 'None')')')')')"
      ]
     },
     "execution_count": 10,
     "metadata": {},
     "output_type": "execute_result"
    }
   ],
   "source": [
    "s1.addTwoNumbers(l1=l1, l2=l2)"
   ]
  },
  {
   "cell_type": "code",
   "execution_count": 11,
   "metadata": {},
   "outputs": [],
   "source": [
    "l1 = ListNode(val=2, next=ListNode(val=4, next=ListNode(val=3, next=None)))\n",
    "l2 = ListNode(val=5, next=ListNode(val=6, next=ListNode(val=4, next=None)))"
   ]
  },
  {
   "cell_type": "code",
   "execution_count": 12,
   "metadata": {},
   "outputs": [
    {
     "data": {
      "text/plain": [
       "Node( value:'7', next 'Node( value:'0', next 'Node( value:'8', next 'None')')')"
      ]
     },
     "execution_count": 12,
     "metadata": {},
     "output_type": "execute_result"
    }
   ],
   "source": [
    "s1.addTwoNumbers(l1=l1, l2=l2)"
   ]
  }
 ],
 "metadata": {
  "kernelspec": {
   "display_name": "venv",
   "language": "python",
   "name": "python3"
  },
  "language_info": {
   "codemirror_mode": {
    "name": "ipython",
    "version": 3
   },
   "file_extension": ".py",
   "mimetype": "text/x-python",
   "name": "python",
   "nbconvert_exporter": "python",
   "pygments_lexer": "ipython3",
   "version": "3.10.8"
  },
  "orig_nbformat": 4,
  "vscode": {
   "interpreter": {
    "hash": "e21ce834497d1478e189af80584bfd1d06f92d53aa5d0cc1a691c0b63e72c86f"
   }
  }
 },
 "nbformat": 4,
 "nbformat_minor": 2
}
