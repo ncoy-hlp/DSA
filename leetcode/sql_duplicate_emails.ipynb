{
 "cells": [
  {
   "cell_type": "code",
   "execution_count": null,
   "metadata": {},
   "outputs": [],
   "source": [
    "# table schema\n",
    "# Create table If Not Exists Person (id int, email varchar(255))\n",
    "# Truncate table Person\n",
    "# insert into Person (id, email) values ('1', 'a@b.com')\n",
    "# insert into Person (id, email) values ('2', 'c@d.com')\n",
    "# insert into Person (id, email) values ('3', 'a@b.com')"
   ]
  },
  {
   "cell_type": "code",
   "execution_count": null,
   "metadata": {},
   "outputs": [],
   "source": [
    "# Table: Person\n",
    "\n",
    "# +-------------+---------+\n",
    "# | Column Name | Type    |\n",
    "# +-------------+---------+\n",
    "# | id          | int     |\n",
    "# | email       | varchar |\n",
    "# +-------------+---------+\n",
    "# id is the primary key column for this table.\n",
    "# Each row of this table contains an email. The emails will not contain uppercase letters.\n",
    " \n",
    "\n",
    "# Write an SQL query to report all the duplicate emails. Note that it's guaranteed that the email field is not NULL.\n",
    "\n",
    "# Return the result table in any order.\n",
    "\n",
    "# The query result format is in the following example.\n",
    "\n",
    " \n",
    "\n",
    "# Example 1:\n",
    "\n",
    "# Input: \n",
    "# Person table:\n",
    "# +----+---------+\n",
    "# | id | email   |\n",
    "# +----+---------+\n",
    "# | 1  | a@b.com |\n",
    "# | 2  | c@d.com |\n",
    "# | 3  | a@b.com |\n",
    "# +----+---------+\n",
    "# Output: \n",
    "# +---------+\n",
    "# | Email   |\n",
    "# +---------+\n",
    "# | a@b.com |\n",
    "# +---------+\n",
    "# Explanation: a@b.com is repeated two times."
   ]
  },
  {
   "cell_type": "code",
   "execution_count": null,
   "metadata": {},
   "outputs": [],
   "source": [
    "# Write your MySQL query statement below\n",
    "# SELECT email\n",
    "# FROM Person\n",
    "# GROUP BY 1\n",
    "# HAVING COUNT(*) > 1"
   ]
  }
 ],
 "metadata": {
  "kernelspec": {
   "display_name": "venv",
   "language": "python",
   "name": "python3"
  },
  "language_info": {
   "name": "python",
   "version": "3.10.8"
  },
  "orig_nbformat": 4,
  "vscode": {
   "interpreter": {
    "hash": "e21ce834497d1478e189af80584bfd1d06f92d53aa5d0cc1a691c0b63e72c86f"
   }
  }
 },
 "nbformat": 4,
 "nbformat_minor": 2
}
