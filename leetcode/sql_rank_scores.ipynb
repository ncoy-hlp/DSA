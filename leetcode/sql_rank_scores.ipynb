{
 "cells": [
  {
   "cell_type": "code",
   "execution_count": 1,
   "metadata": {},
   "outputs": [],
   "source": [
    "# schema\n",
    "# Create table If Not Exists Scores (id int, score DECIMAL(3,2))\n",
    "# Truncate table Scores\n",
    "# insert into Scores (id, score) values ('1', '3.5')\n",
    "# insert into Scores (id, score) values ('2', '3.65')\n",
    "# insert into Scores (id, score) values ('3', '4.0')\n",
    "# insert into Scores (id, score) values ('4', '3.85')\n",
    "# insert into Scores (id, score) values ('5', '4.0')\n",
    "# insert into Scores (id, score) values ('6', '3.65')"
   ]
  },
  {
   "cell_type": "code",
   "execution_count": 2,
   "metadata": {},
   "outputs": [],
   "source": [
    "# Table: Scores\n",
    "\n",
    "# +-------------+---------+\n",
    "# | Column Name | Type    |\n",
    "# +-------------+---------+\n",
    "# | id          | int     |\n",
    "# | score       | decimal |\n",
    "# +-------------+---------+\n",
    "# id is the primary key for this table.\n",
    "# Each row of this table contains the score of a game. Score is a floating point value with two decimal places.\n",
    " \n",
    "\n",
    "# Write an SQL query to rank the scores. The ranking should be calculated according to the following rules:\n",
    "\n",
    "# The scores should be ranked from the highest to the lowest.\n",
    "# If there is a tie between two scores, both should have the same ranking.\n",
    "# After a tie, the next ranking number should be the next consecutive integer value. In other words, there should be no holes between ranks.\n",
    "# Return the result table ordered by score in descending order.\n",
    "\n",
    "# The query result format is in the following example.\n",
    "\n",
    " \n",
    "\n",
    "# Example 1:\n",
    "\n",
    "# Input: \n",
    "# Scores table:\n",
    "# +----+-------+\n",
    "# | id | score |\n",
    "# +----+-------+\n",
    "# | 1  | 3.50  |\n",
    "# | 2  | 3.65  |\n",
    "# | 3  | 4.00  |\n",
    "# | 4  | 3.85  |\n",
    "# | 5  | 4.00  |\n",
    "# | 6  | 3.65  |\n",
    "# +----+-------+\n",
    "# Output: \n",
    "# +-------+------+\n",
    "# | score | rank |\n",
    "# +-------+------+\n",
    "# | 4.00  | 1    |\n",
    "# | 4.00  | 1    |\n",
    "# | 3.85  | 2    |\n",
    "# | 3.65  | 3    |\n",
    "# | 3.65  | 3    |\n",
    "# | 3.50  | 4    |\n",
    "# +-------+------+"
   ]
  },
  {
   "cell_type": "code",
   "execution_count": null,
   "metadata": {},
   "outputs": [],
   "source": [
    "# Write your MySQL query statement below\n",
    "# SELECT\n",
    "# \tscore,\n",
    "#     Dense_Rank() OVER(ORDER BY score desc) as \"Rank\"\n",
    "# FROM Scores;"
   ]
  }
 ],
 "metadata": {
  "kernelspec": {
   "display_name": "venv",
   "language": "python",
   "name": "python3"
  },
  "language_info": {
   "codemirror_mode": {
    "name": "ipython",
    "version": 3
   },
   "file_extension": ".py",
   "mimetype": "text/x-python",
   "name": "python",
   "nbconvert_exporter": "python",
   "pygments_lexer": "ipython3",
   "version": "3.10.8"
  },
  "orig_nbformat": 4,
  "vscode": {
   "interpreter": {
    "hash": "e21ce834497d1478e189af80584bfd1d06f92d53aa5d0cc1a691c0b63e72c86f"
   }
  }
 },
 "nbformat": 4,
 "nbformat_minor": 2
}
