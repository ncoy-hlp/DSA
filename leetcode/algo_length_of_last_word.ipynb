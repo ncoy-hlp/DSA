{
 "cells": [
  {
   "cell_type": "code",
   "execution_count": 1,
   "metadata": {},
   "outputs": [],
   "source": [
    "%load_ext lab_black"
   ]
  },
  {
   "cell_type": "code",
   "execution_count": 2,
   "metadata": {},
   "outputs": [],
   "source": [
    "# Given a string s consisting of words and spaces, return the length of the last word in the string.\n",
    "\n",
    "# A word is a maximal\n",
    "# substring\n",
    "#  consisting of non-space characters only.\n",
    "\n",
    "\n",
    "# Example 1:\n",
    "\n",
    "# Input: s = \"Hello World\"\n",
    "# Output: 5\n",
    "# Explanation: The last word is \"World\" with length 5.\n",
    "# Example 2:\n",
    "\n",
    "# Input: s = \"   fly me   to   the moon  \"\n",
    "# Output: 4\n",
    "# Explanation: The last word is \"moon\" with length 4.\n",
    "# Example 3:\n",
    "\n",
    "# Input: s = \"luffy is still joyboy\"\n",
    "# Output: 6\n",
    "# Explanation: The last word is \"joyboy\" with length 6.\n",
    "\n",
    "\n",
    "# Constraints:\n",
    "\n",
    "# 1 <= s.length <= 104\n",
    "# s consists of only English letters and spaces ' '.\n",
    "# There will be at least one word in s.\n",
    "# Accepted\n",
    "# 1M\n",
    "# Submissions\n",
    "# 2.5M\n",
    "# Acceptance Rate\n",
    "# 42.4%"
   ]
  },
  {
   "cell_type": "code",
   "execution_count": 7,
   "metadata": {},
   "outputs": [],
   "source": [
    "class Solution:\n",
    "    def lengthOfLastWord(self, s: str) -> int:\n",
    "        string_list = s.split()\n",
    "        return len(string_list[-1])"
   ]
  },
  {
   "cell_type": "code",
   "execution_count": 8,
   "metadata": {},
   "outputs": [
    {
     "data": {
      "text/plain": [
       "5"
      ]
     },
     "execution_count": 8,
     "metadata": {},
     "output_type": "execute_result"
    }
   ],
   "source": [
    "s = \"Hello World\"\n",
    "s1 = Solution()\n",
    "s1.lengthOfLastWord(s=s)"
   ]
  },
  {
   "cell_type": "code",
   "execution_count": 9,
   "metadata": {},
   "outputs": [
    {
     "data": {
      "text/plain": [
       "4"
      ]
     },
     "execution_count": 9,
     "metadata": {},
     "output_type": "execute_result"
    }
   ],
   "source": [
    "s = \"   fly me   to   the moon  \"\n",
    "s1 = Solution()\n",
    "s1.lengthOfLastWord(s=s)"
   ]
  },
  {
   "cell_type": "code",
   "execution_count": 10,
   "metadata": {},
   "outputs": [
    {
     "data": {
      "text/plain": [
       "6"
      ]
     },
     "execution_count": 10,
     "metadata": {},
     "output_type": "execute_result"
    }
   ],
   "source": [
    "s = \"luffy is still joyboy\"\n",
    "s1 = Solution()\n",
    "s1.lengthOfLastWord(s=s)"
   ]
  }
 ],
 "metadata": {
  "kernelspec": {
   "display_name": "venv",
   "language": "python",
   "name": "python3"
  },
  "language_info": {
   "codemirror_mode": {
    "name": "ipython",
    "version": 3
   },
   "file_extension": ".py",
   "mimetype": "text/x-python",
   "name": "python",
   "nbconvert_exporter": "python",
   "pygments_lexer": "ipython3",
   "version": "3.10.8"
  },
  "orig_nbformat": 4,
  "vscode": {
   "interpreter": {
    "hash": "e21ce834497d1478e189af80584bfd1d06f92d53aa5d0cc1a691c0b63e72c86f"
   }
  }
 },
 "nbformat": 4,
 "nbformat_minor": 2
}
