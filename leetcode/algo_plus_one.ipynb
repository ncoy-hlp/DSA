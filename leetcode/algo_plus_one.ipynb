{
 "cells": [
  {
   "cell_type": "code",
   "execution_count": 1,
   "metadata": {},
   "outputs": [],
   "source": [
    "%load_ext lab_black"
   ]
  },
  {
   "cell_type": "code",
   "execution_count": 2,
   "metadata": {},
   "outputs": [],
   "source": [
    "# You are given a large integer represented as an integer array digits, where each digits[i] is the ith digit of the integer. The digits are ordered from most significant to least significant in left-to-right order. The large integer does not contain any leading 0's.\n",
    "\n",
    "# Increment the large integer by one and return the resulting array of digits.\n",
    "\n",
    "\n",
    "# Example 1:\n",
    "\n",
    "# Input: digits = [1,2,3]\n",
    "# Output: [1,2,4]\n",
    "# Explanation: The array represents the integer 123.\n",
    "# Incrementing by one gives 123 + 1 = 124.\n",
    "# Thus, the result should be [1,2,4].\n",
    "# Example 2:\n",
    "\n",
    "# Input: digits = [4,3,2,1]\n",
    "# Output: [4,3,2,2]\n",
    "# Explanation: The array represents the integer 4321.\n",
    "# Incrementing by one gives 4321 + 1 = 4322.\n",
    "# Thus, the result should be [4,3,2,2].\n",
    "# Example 3:\n",
    "\n",
    "# Input: digits = [9]\n",
    "# Output: [1,0]\n",
    "# Explanation: The array represents the integer 9.\n",
    "# Incrementing by one gives 9 + 1 = 10.\n",
    "# Thus, the result should be [1,0].\n",
    "\n",
    "\n",
    "# Constraints:\n",
    "\n",
    "# 1 <= digits.length <= 100\n",
    "# 0 <= digits[i] <= 9\n",
    "# digits does not contain any leading 0's.\n",
    "# Accepted\n",
    "# 1.6M\n",
    "# Submissions\n",
    "# 3.6M\n",
    "# Acceptance Rate\n",
    "# 43.6%"
   ]
  },
  {
   "cell_type": "code",
   "execution_count": 4,
   "metadata": {},
   "outputs": [],
   "source": [
    "from typing import List"
   ]
  },
  {
   "cell_type": "code",
   "execution_count": 26,
   "metadata": {},
   "outputs": [],
   "source": [
    "# not using str method\n",
    "class Solution:\n",
    "    def plusOne(self, digits: List[int]) -> List[int]:\n",
    "        reversed_digits = digits[::-1]\n",
    "        num = 0\n",
    "        for index in range(len(reversed_digits)):\n",
    "            num += reversed_digits[index] * 10**index\n",
    "        num = num + 1\n",
    "        final = []\n",
    "        while num % 10:\n",
    "            final.insert(0, num % 10)\n",
    "            num = num // 10\n",
    "        return final"
   ]
  },
  {
   "cell_type": "code",
   "execution_count": 32,
   "metadata": {},
   "outputs": [],
   "source": [
    "# using str \n",
    "class Solution_2:\n",
    "    def plusOne(self, digits: List[int]) -> List[int]:\n",
    "        num = \"\"\n",
    "        for d in digits:\n",
    "            num += str(d)\n",
    "        num = str(int(num) + 1)\n",
    "        final = []\n",
    "        for d in num:\n",
    "            final.append(int(d))\n",
    "        return final"
   ]
  },
  {
   "cell_type": "code",
   "execution_count": 30,
   "metadata": {},
   "outputs": [
    {
     "data": {
      "text/plain": [
       "[1, 2, 4]"
      ]
     },
     "execution_count": 30,
     "metadata": {},
     "output_type": "execute_result"
    }
   ],
   "source": [
    "digits = [1, 2, 3]\n",
    "output = [1, 2, 4]\n",
    "s1 = Solution()\n",
    "s1.plusOne(digits=digits)"
   ]
  },
  {
   "cell_type": "code",
   "execution_count": 33,
   "metadata": {},
   "outputs": [
    {
     "data": {
      "text/plain": [
       "[1, 2, 4]"
      ]
     },
     "execution_count": 33,
     "metadata": {},
     "output_type": "execute_result"
    }
   ],
   "source": [
    "digits = [1, 2, 3]\n",
    "output = [1, 2, 4]\n",
    "s2 = Solution_2()\n",
    "s2.plusOne(digits=digits)"
   ]
  },
  {
   "cell_type": "code",
   "execution_count": 35,
   "metadata": {},
   "outputs": [
    {
     "data": {
      "text/plain": [
       "[4, 3, 2, 2]"
      ]
     },
     "execution_count": 35,
     "metadata": {},
     "output_type": "execute_result"
    }
   ],
   "source": [
    "digits = [4, 3, 2, 1]\n",
    "Output = [4, 3, 2, 2]\n",
    "s1 = Solution()\n",
    "s1.plusOne(digits=digits)"
   ]
  },
  {
   "cell_type": "code",
   "execution_count": 36,
   "metadata": {},
   "outputs": [
    {
     "data": {
      "text/plain": [
       "[4, 3, 2, 2]"
      ]
     },
     "execution_count": 36,
     "metadata": {},
     "output_type": "execute_result"
    }
   ],
   "source": [
    "digits = [4, 3, 2, 1]\n",
    "Output = [4, 3, 2, 2]\n",
    "s2 = Solution()\n",
    "s2.plusOne(digits=digits)"
   ]
  },
  {
   "cell_type": "code",
   "execution_count": 37,
   "metadata": {},
   "outputs": [
    {
     "data": {
      "text/plain": [
       "[]"
      ]
     },
     "execution_count": 37,
     "metadata": {},
     "output_type": "execute_result"
    }
   ],
   "source": [
    "digits = [9]\n",
    "output = [1, 0]\n",
    "s1 = Solution()\n",
    "s1.plusOne(digits=digits)"
   ]
  },
  {
   "cell_type": "code",
   "execution_count": 48,
   "metadata": {},
   "outputs": [
    {
     "data": {
      "text/plain": [
       "[1, 0]"
      ]
     },
     "execution_count": 48,
     "metadata": {},
     "output_type": "execute_result"
    }
   ],
   "source": [
    "digits = [9]\n",
    "output = [1, 0]\n",
    "s2 = Solution_2()\n",
    "s2.plusOne(digits=digits)"
   ]
  },
  {
   "cell_type": "code",
   "execution_count": 39,
   "metadata": {},
   "outputs": [],
   "source": [
    "reversed_digits = digits[::-1]\n",
    "num = 0\n",
    "for index in range(len(reversed_digits)):\n",
    "    num += reversed_digits[index] * 10**index\n",
    "num = num + 1\n",
    "final = []\n",
    "while num % 10:\n",
    "    final.insert(0, num % 10)\n",
    "    num = num // 10"
   ]
  },
  {
   "cell_type": "code",
   "execution_count": 42,
   "metadata": {},
   "outputs": [
    {
     "data": {
      "text/plain": [
       "0"
      ]
     },
     "execution_count": 42,
     "metadata": {},
     "output_type": "execute_result"
    }
   ],
   "source": [
    "num % 10"
   ]
  },
  {
   "cell_type": "code",
   "execution_count": 44,
   "metadata": {},
   "outputs": [],
   "source": [
    "num = \"\"\n",
    "for d in digits:\n",
    "    num += str(d)\n",
    "num = str(int(num) + 1)\n",
    "final = []\n",
    "for d in num:\n",
    "    final.append(int(d))"
   ]
  },
  {
   "cell_type": "code",
   "execution_count": 47,
   "metadata": {},
   "outputs": [
    {
     "data": {
      "text/plain": [
       "'10'"
      ]
     },
     "execution_count": 47,
     "metadata": {},
     "output_type": "execute_result"
    }
   ],
   "source": [
    "num"
   ]
  },
  {
   "cell_type": "code",
   "execution_count": null,
   "metadata": {},
   "outputs": [],
   "source": []
  }
 ],
 "metadata": {
  "kernelspec": {
   "display_name": "venv",
   "language": "python",
   "name": "python3"
  },
  "language_info": {
   "codemirror_mode": {
    "name": "ipython",
    "version": 3
   },
   "file_extension": ".py",
   "mimetype": "text/x-python",
   "name": "python",
   "nbconvert_exporter": "python",
   "pygments_lexer": "ipython3",
   "version": "3.10.8"
  },
  "orig_nbformat": 4,
  "vscode": {
   "interpreter": {
    "hash": "e21ce834497d1478e189af80584bfd1d06f92d53aa5d0cc1a691c0b63e72c86f"
   }
  }
 },
 "nbformat": 4,
 "nbformat_minor": 2
}
