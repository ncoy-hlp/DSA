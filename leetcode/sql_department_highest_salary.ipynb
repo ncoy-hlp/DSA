{
 "cells": [
  {
   "cell_type": "code",
   "execution_count": 1,
   "metadata": {},
   "outputs": [],
   "source": [
    "# table schema\n",
    "# Create table If Not Exists Employee (id int, name varchar(255), salary int, departmentId int)\n",
    "# Create table If Not Exists Department (id int, name varchar(255))\n",
    "# Truncate table Employee\n",
    "# insert into Employee (id, name, salary, departmentId) values ('1', 'Joe', '70000', '1')\n",
    "# insert into Employee (id, name, salary, departmentId) values ('2', 'Jim', '90000', '1')\n",
    "# insert into Employee (id, name, salary, departmentId) values ('3', 'Henry', '80000', '2')\n",
    "# insert into Employee (id, name, salary, departmentId) values ('4', 'Sam', '60000', '2')\n",
    "# insert into Employee (id, name, salary, departmentId) values ('5', 'Max', '90000', '1')\n",
    "# Truncate table Department\n",
    "# insert into Department (id, name) values ('1', 'IT')\n",
    "# insert into Department (id, name) values ('2', 'Sales')"
   ]
  },
  {
   "cell_type": "code",
   "execution_count": 2,
   "metadata": {},
   "outputs": [],
   "source": [
    "# Table: Employee\n",
    "\n",
    "# +--------------+---------+\n",
    "# | Column Name  | Type    |\n",
    "# +--------------+---------+\n",
    "# | id           | int     |\n",
    "# | name         | varchar |\n",
    "# | salary       | int     |\n",
    "# | departmentId | int     |\n",
    "# +--------------+---------+\n",
    "# id is the primary key column for this table.\n",
    "# departmentId is a foreign key of the ID from the Department table.\n",
    "# Each row of this table indicates the ID, name, and salary of an employee. It also contains the ID of their department.\n",
    " \n",
    "\n",
    "# Table: Department\n",
    "\n",
    "# +-------------+---------+\n",
    "# | Column Name | Type    |\n",
    "# +-------------+---------+\n",
    "# | id          | int     |\n",
    "# | name        | varchar |\n",
    "# +-------------+---------+\n",
    "# id is the primary key column for this table.\n",
    "# Each row of this table indicates the ID of a department and its name.\n",
    " \n",
    "\n",
    "# Write an SQL query to find employees who have the highest salary in each of the departments.\n",
    "\n",
    "# Return the result table in any order.\n",
    "\n",
    "# The query result format is in the following example.\n",
    "\n",
    " \n",
    "\n",
    "# Example 1:\n",
    "\n",
    "# Input: \n",
    "# Employee table:\n",
    "# +----+-------+--------+--------------+\n",
    "# | id | name  | salary | departmentId |\n",
    "# +----+-------+--------+--------------+\n",
    "# | 1  | Joe   | 70000  | 1            |\n",
    "# | 2  | Jim   | 90000  | 1            |\n",
    "# | 3  | Henry | 80000  | 2            |\n",
    "# | 4  | Sam   | 60000  | 2            |\n",
    "# | 5  | Max   | 90000  | 1            |\n",
    "# +----+-------+--------+--------------+\n",
    "# Department table:\n",
    "# +----+-------+\n",
    "# | id | name  |\n",
    "# +----+-------+\n",
    "# | 1  | IT    |\n",
    "# | 2  | Sales |\n",
    "# +----+-------+\n",
    "# Output: \n",
    "# +------------+----------+--------+\n",
    "# | Department | Employee | Salary |\n",
    "# +------------+----------+--------+\n",
    "# | IT         | Jim      | 90000  |\n",
    "# | Sales      | Henry    | 80000  |\n",
    "# | IT         | Max      | 90000  |\n",
    "# +------------+----------+--------+\n",
    "# Explanation: Max and Jim both have the highest salary in the IT department and Henry has the highest salary in the Sales department."
   ]
  },
  {
   "cell_type": "code",
   "execution_count": null,
   "metadata": {},
   "outputs": [],
   "source": [
    "# SELECT\n",
    "# \td.name as \"Department\",\n",
    "#     t1.name as \"Employee\",\n",
    "#     t1.salary as \"Salary\"\n",
    "# FROM(\n",
    "# SELECT\n",
    "# \tname,\n",
    "# \tdepartmentId,\n",
    "#     salary,\n",
    "#     rank() over(partition by departmentId order by salary desc) as \"rank\"\n",
    "# FROM Employee) t1\n",
    "# inner join Department d\n",
    "# on t1.departmentId = d.id\n",
    "# WHERE\n",
    "# \tt1.rank = 1"
   ]
  }
 ],
 "metadata": {
  "kernelspec": {
   "display_name": "venv",
   "language": "python",
   "name": "python3"
  },
  "language_info": {
   "codemirror_mode": {
    "name": "ipython",
    "version": 3
   },
   "file_extension": ".py",
   "mimetype": "text/x-python",
   "name": "python",
   "nbconvert_exporter": "python",
   "pygments_lexer": "ipython3",
   "version": "3.10.8"
  },
  "orig_nbformat": 4,
  "vscode": {
   "interpreter": {
    "hash": "e21ce834497d1478e189af80584bfd1d06f92d53aa5d0cc1a691c0b63e72c86f"
   }
  }
 },
 "nbformat": 4,
 "nbformat_minor": 2
}
