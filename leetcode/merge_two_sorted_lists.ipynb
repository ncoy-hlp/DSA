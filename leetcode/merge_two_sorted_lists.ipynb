{
 "cells": [
  {
   "cell_type": "code",
   "execution_count": 1,
   "metadata": {},
   "outputs": [],
   "source": [
    "%load_ext lab_black"
   ]
  },
  {
   "cell_type": "code",
   "execution_count": 2,
   "metadata": {},
   "outputs": [],
   "source": [
    "# You are given the heads of two sorted linked lists list1 and list2.\n",
    "\n",
    "# Merge the two lists in a one sorted list. The list should be made by splicing together the nodes of the first two lists.\n",
    "\n",
    "# Return the head of the merged linked list.\n",
    "\n",
    "\n",
    "# Example 1:\n",
    "\n",
    "\n",
    "# Input: list1 = [1,2,4], list2 = [1,3,4]\n",
    "# Output: [1,1,2,3,4,4]\n",
    "# Example 2:\n",
    "\n",
    "# Input: list1 = [], list2 = []\n",
    "# Output: []\n",
    "# Example 3:\n",
    "\n",
    "# Input: list1 = [], list2 = [0]\n",
    "# Output: [0]"
   ]
  },
  {
   "cell_type": "code",
   "execution_count": 21,
   "metadata": {},
   "outputs": [],
   "source": [
    "from typing import Optional"
   ]
  },
  {
   "cell_type": "code",
   "execution_count": 23,
   "metadata": {},
   "outputs": [],
   "source": [
    "# Definition for singly-linked list.\n",
    "class ListNode:\n",
    "    def __init__(self, val=0, next=None):\n",
    "        self.val = val\n",
    "        self.next = next\n",
    "\n",
    "    def __repr__(self):\n",
    "        return f\"ListNode( value:'{self.value}', next '{self.next}')\"\n",
    "\n",
    "\n",
    "# class Solution:\n",
    "#     def mergeTwoLists(self, list1: Optional[ListNode], list2: Optional[ListNode]) -> Optional[ListNode]:"
   ]
  },
  {
   "cell_type": "code",
   "execution_count": 13,
   "metadata": {},
   "outputs": [],
   "source": [
    "l1 = ListNode(1, ListNode(2, ListNode(3, None)))\n",
    "l2 = ListNode(1, ListNode(3, ListNode(4, None)))"
   ]
  },
  {
   "cell_type": "code",
   "execution_count": 17,
   "metadata": {},
   "outputs": [
    {
     "data": {
      "text/plain": [
       "<__main__.ListNode at 0x10cdd7250>"
      ]
     },
     "execution_count": 17,
     "metadata": {},
     "output_type": "execute_result"
    }
   ],
   "source": [
    "current_node_l1 = l1\n",
    "current_node_l2 = l2\n",
    "while current_node_l1 is not None or current_node_l2 is not None:\n",
    "    if current_node_l1.val <= current_node_l2.val:\n",
    "        new_node = ListNode(val=current_node_l2.val, next=current_node_l1.next)\n",
    "        l1.next = new_node\n",
    "    else:\n",
    "        l1.next = ListNode(val=current_node_l2.val, next=current_node_l1.next)\n",
    "    \n"
   ]
  },
  {
   "cell_type": "code",
   "execution_count": 25,
   "metadata": {},
   "outputs": [
    {
     "name": "stdout",
     "output_type": "stream",
     "text": [
      "l1 current node value 1\n",
      "l2 current node value 1\n",
      "l1 current node value 2\n",
      "l2 current node value 3\n",
      "l1 current node value 3\n",
      "l2 current node value 4\n"
     ]
    }
   ],
   "source": [
    "current_node_l1 = l1\n",
    "current_node_l2 = l2\n",
    "while current_node_l1 is not None or current_node_l2 is not None:\n",
    "    print(\"l1 current node value\", current_node_l1.val)\n",
    "    print(\"l2 current node value\", current_node_l2.val)\n",
    "    if current_node_l1.val is not None:\n",
    "        current_node_l1 = current_node_l1.next\n",
    "    if current_node_l2.val is not None:\n",
    "        current_node_l2 = current_node_l2.next"
   ]
  },
  {
   "cell_type": "code",
   "execution_count": null,
   "metadata": {},
   "outputs": [],
   "source": []
  }
 ],
 "metadata": {
  "kernelspec": {
   "display_name": "venv",
   "language": "python",
   "name": "python3"
  },
  "language_info": {
   "codemirror_mode": {
    "name": "ipython",
    "version": 3
   },
   "file_extension": ".py",
   "mimetype": "text/x-python",
   "name": "python",
   "nbconvert_exporter": "python",
   "pygments_lexer": "ipython3",
   "version": "3.10.8"
  },
  "orig_nbformat": 4,
  "vscode": {
   "interpreter": {
    "hash": "e21ce834497d1478e189af80584bfd1d06f92d53aa5d0cc1a691c0b63e72c86f"
   }
  }
 },
 "nbformat": 4,
 "nbformat_minor": 2
}
