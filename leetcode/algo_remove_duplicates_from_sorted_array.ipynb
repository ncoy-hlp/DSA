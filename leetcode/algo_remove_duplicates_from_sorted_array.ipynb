{
 "cells": [
  {
   "cell_type": "code",
   "execution_count": 1,
   "metadata": {},
   "outputs": [],
   "source": [
    "%load_ext lab_black"
   ]
  },
  {
   "cell_type": "code",
   "execution_count": 2,
   "metadata": {},
   "outputs": [],
   "source": [
    "# Given an integer array nums sorted in non-decreasing order, remove the duplicates in-place such that each unique element appears only once. The relative order of the elements should be kept the same.\n",
    "\n",
    "# Since it is impossible to change the length of the array in some languages, you must instead have the result be placed in the first part of the array nums. More formally, if there are k elements after removing the duplicates, then the first k elements of nums should hold the final result. It does not matter what you leave beyond the first k elements.\n",
    "\n",
    "# Return k after placing the final result in the first k slots of nums.\n",
    "\n",
    "# Do not allocate extra space for another array. You must do this by modifying the input array in-place with O(1) extra memory.\n",
    "\n",
    "# Custom Judge:\n",
    "\n",
    "# The judge will test your solution with the following code:\n",
    "\n",
    "# int[] nums = [...]; // Input array\n",
    "# int[] expectedNums = [...]; // The expected answer with correct length\n",
    "\n",
    "# int k = removeDuplicates(nums); // Calls your implementation\n",
    "\n",
    "# assert k == expectedNums.length;\n",
    "# for (int i = 0; i < k; i++) {\n",
    "#     assert nums[i] == expectedNums[i];\n",
    "# }\n",
    "# If all assertions pass, then your solution will be accepted.\n",
    "\n",
    "\n",
    "# Example 1:\n",
    "\n",
    "# Input: nums = [1,1,2]\n",
    "# Output: 2, nums = [1,2,_]\n",
    "# Explanation: Your function should return k = 2, with the first two elements of nums being 1 and 2 respectively.\n",
    "# It does not matter what you leave beyond the returned k (hence they are underscores).\n",
    "# Example 2:\n",
    "\n",
    "# Input: nums = [0,0,1,1,1,2,2,3,3,4]\n",
    "# Output: 5, nums = [0,1,2,3,4,_,_,_,_,_]\n",
    "# Explanation: Your function should return k = 5, with the first five elements of nums being 0, 1, 2, 3, and 4 respectively.\n",
    "# It does not matter what you leave beyond the returned k (hence they are underscores)."
   ]
  },
  {
   "cell_type": "code",
   "execution_count": 3,
   "metadata": {},
   "outputs": [],
   "source": [
    "from typing import List"
   ]
  },
  {
   "cell_type": "code",
   "execution_count": 4,
   "metadata": {},
   "outputs": [],
   "source": [
    "class Solution:\n",
    "    def removeDuplicates(self, nums: List[int]) -> int:\n",
    "        i = 1\n",
    "        while i < len(nums):\n",
    "            if nums[i] == nums[i - 1]:\n",
    "                nums.pop(i)\n",
    "            else:\n",
    "                i += 1\n",
    "        return len(nums)"
   ]
  },
  {
   "cell_type": "code",
   "execution_count": 5,
   "metadata": {},
   "outputs": [],
   "source": [
    "s1 = Solution()"
   ]
  },
  {
   "cell_type": "code",
   "execution_count": 6,
   "metadata": {},
   "outputs": [
    {
     "name": "stdout",
     "output_type": "stream",
     "text": [
      "True\n",
      "True\n"
     ]
    }
   ],
   "source": [
    "test_cases = [\n",
    "    {\"nums\": [1, 1, 2], \"output\": 2},\n",
    "    {\"nums\": [0, 0, 1, 1, 1, 2, 2, 3, 3, 4], \"output\": 5},\n",
    "]\n",
    "for test_case in test_cases:\n",
    "    output = s1.removeDuplicates(nums=test_case[\"nums\"])\n",
    "    print(output == test_case[\"output\"])"
   ]
  },
  {
   "cell_type": "code",
   "execution_count": null,
   "metadata": {},
   "outputs": [],
   "source": [
    "# https://leetcode.com/problems/remove-duplicates-from-sorted-array/submissions/899450504/"
   ]
  }
 ],
 "metadata": {
  "kernelspec": {
   "display_name": "DSA",
   "language": "python",
   "name": "dsa"
  },
  "language_info": {
   "codemirror_mode": {
    "name": "ipython",
    "version": 3
   },
   "file_extension": ".py",
   "mimetype": "text/x-python",
   "name": "python",
   "nbconvert_exporter": "python",
   "pygments_lexer": "ipython3",
   "version": "3.10.8"
  },
  "orig_nbformat": 4,
  "vscode": {
   "interpreter": {
    "hash": "7e1998ff7f8aa20ada591c520b972326324e5ea05489af9e422744c7c09f6dad"
   }
  }
 },
 "nbformat": 4,
 "nbformat_minor": 2
}
