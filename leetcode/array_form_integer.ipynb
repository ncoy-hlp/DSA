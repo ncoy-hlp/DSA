{
 "cells": [
  {
   "cell_type": "code",
   "execution_count": 1,
   "metadata": {},
   "outputs": [],
   "source": [
    "%load_ext lab_black"
   ]
  },
  {
   "cell_type": "code",
   "execution_count": 2,
   "metadata": {},
   "outputs": [],
   "source": [
    "# The array-form of an integer num is an array representing its digits in left to right order.\n",
    "\n",
    "# For example, for num = 1321, the array form is [1,3,2,1].\n",
    "# Given num, the array-form of an integer, and an integer k, return the array-form of the integer num + k.\n",
    "\n",
    "\n",
    "# Example 1:\n",
    "\n",
    "# Input: num = [1,2,0,0], k = 34\n",
    "# Output: [1,2,3,4]\n",
    "# Explanation: 1200 + 34 = 1234\n",
    "# Example 2:\n",
    "\n",
    "# Input: num = [2,7,4], k = 181\n",
    "# Output: [4,5,5]\n",
    "# Explanation: 274 + 181 = 455\n",
    "# Example 3:\n",
    "\n",
    "# Input: num = [2,1,5], k = 806\n",
    "# Output: [1,0,2,1]\n",
    "# Explanation: 215 + 806 = 1021"
   ]
  },
  {
   "cell_type": "code",
   "execution_count": 3,
   "metadata": {},
   "outputs": [],
   "source": [
    "from typing import List"
   ]
  },
  {
   "cell_type": "code",
   "execution_count": 4,
   "metadata": {},
   "outputs": [],
   "source": [
    "class Solution:\n",
    "    def addToArrayForm(self, num: List[int], k: int) -> List[int]:\n",
    "        num_value = \"\"\n",
    "        for n in num:\n",
    "            num_value += str(n)\n",
    "        num_value = int(num_value)\n",
    "        num_value = num_value + k\n",
    "        back_to_num = []\n",
    "        while True:\n",
    "            back_to_num.append(num_value % 10)\n",
    "            num_value = num_value // 10\n",
    "            if not num_value:\n",
    "                break\n",
    "        return back_to_num[::-1]"
   ]
  },
  {
   "cell_type": "code",
   "execution_count": 5,
   "metadata": {},
   "outputs": [],
   "source": [
    "s1 = Solution()"
   ]
  },
  {
   "cell_type": "code",
   "execution_count": 6,
   "metadata": {},
   "outputs": [
    {
     "name": "stdout",
     "output_type": "stream",
     "text": [
      "True\n",
      "True\n",
      "True\n"
     ]
    }
   ],
   "source": [
    "test_cases = [\n",
    "    {\"num\": [1, 2, 0, 0], \"k\": 34, \"output\": [1, 2, 3, 4]},\n",
    "    {\"num\": [2, 7, 4], \"k\": 181, \"output\": [4, 5, 5]},\n",
    "    {\"num\": [2, 1, 5], \"k\": 806, \"output\": [1, 0, 2, 1]},\n",
    "]\n",
    "for test_case in test_cases:\n",
    "    output = s1.addToArrayForm(num=test_case[\"num\"], k=test_case[\"k\"])\n",
    "    print(output == test_case[\"output\"])"
   ]
  },
  {
   "cell_type": "code",
   "execution_count": null,
   "metadata": {},
   "outputs": [],
   "source": [
    "# https://leetcode.com/submissions/detail/898646370/"
   ]
  }
 ],
 "metadata": {
  "kernelspec": {
   "display_name": "venv",
   "language": "python",
   "name": "python3"
  },
  "language_info": {
   "codemirror_mode": {
    "name": "ipython",
    "version": 3
   },
   "file_extension": ".py",
   "mimetype": "text/x-python",
   "name": "python",
   "nbconvert_exporter": "python",
   "pygments_lexer": "ipython3",
   "version": "3.10.8"
  },
  "orig_nbformat": 4,
  "vscode": {
   "interpreter": {
    "hash": "e21ce834497d1478e189af80584bfd1d06f92d53aa5d0cc1a691c0b63e72c86f"
   }
  }
 },
 "nbformat": 4,
 "nbformat_minor": 2
}
