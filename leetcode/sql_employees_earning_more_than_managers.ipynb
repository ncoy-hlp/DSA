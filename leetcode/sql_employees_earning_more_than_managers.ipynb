{
 "cells": [
  {
   "cell_type": "code",
   "execution_count": 1,
   "metadata": {},
   "outputs": [],
   "source": [
    "# Table: Employee\n",
    "\n",
    "# +-------------+---------+\n",
    "# | Column Name | Type    |\n",
    "# +-------------+---------+\n",
    "# | id          | int     |\n",
    "# | name        | varchar |\n",
    "# | salary      | int     |\n",
    "# | managerId   | int     |\n",
    "# +-------------+---------+\n",
    "# id is the primary key column for this table.\n",
    "# Each row of this table indicates the ID of an employee, their name, salary, and the ID of their manager.\n",
    " \n",
    "\n",
    "# Write an SQL query to find the employees who earn more than their managers.\n",
    "\n",
    "# Return the result table in any order.\n",
    "\n",
    "# The query result format is in the following example.\n",
    "\n",
    " \n",
    "\n",
    "# Example 1:\n",
    "\n",
    "# Input: \n",
    "# Employee table:\n",
    "# +----+-------+--------+-----------+\n",
    "# | id | name  | salary | managerId |\n",
    "# +----+-------+--------+-----------+\n",
    "# | 1  | Joe   | 70000  | 3         |\n",
    "# | 2  | Henry | 80000  | 4         |\n",
    "# | 3  | Sam   | 60000  | Null      |\n",
    "# | 4  | Max   | 90000  | Null      |\n",
    "# +----+-------+--------+-----------+\n",
    "# Output: \n",
    "# +----------+\n",
    "# | Employee |\n",
    "# +----------+\n",
    "# | Joe      |\n",
    "# +----------+\n",
    "# Explanation: Joe is the only employee who earns more than his manager."
   ]
  },
  {
   "cell_type": "code",
   "execution_count": null,
   "metadata": {},
   "outputs": [],
   "source": [
    "# SELECT Employee\n",
    "# FROM(\n",
    "# SELECT \n",
    "#     e.id as \"employee_id\",\n",
    "#     e.name as \"Employee\",\n",
    "#     e.salary as \"employee_salary\",\n",
    "#     m.salary as \"manager_salary\"\n",
    "# FROM Employee e\n",
    "# LEFT JOIN Employee m\n",
    "# on m.id = e.managerId\n",
    "# ) d\n",
    "# where\n",
    "#     employee_salary > manager_salary"
   ]
  }
 ],
 "metadata": {
  "kernelspec": {
   "display_name": "venv",
   "language": "python",
   "name": "python3"
  },
  "language_info": {
   "codemirror_mode": {
    "name": "ipython",
    "version": 3
   },
   "file_extension": ".py",
   "mimetype": "text/x-python",
   "name": "python",
   "nbconvert_exporter": "python",
   "pygments_lexer": "ipython3",
   "version": "3.10.8"
  },
  "orig_nbformat": 4,
  "vscode": {
   "interpreter": {
    "hash": "e21ce834497d1478e189af80584bfd1d06f92d53aa5d0cc1a691c0b63e72c86f"
   }
  }
 },
 "nbformat": 4,
 "nbformat_minor": 2
}
