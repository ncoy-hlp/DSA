{
 "cells": [
  {
   "cell_type": "code",
   "execution_count": 1,
   "metadata": {},
   "outputs": [],
   "source": [
    "# schema\n",
    "# Create table If Not Exists Logs (id int, num int)\n",
    "# Truncate table Logs\n",
    "# insert into Logs (id, num) values ('1', '1')\n",
    "# insert into Logs (id, num) values ('2', '1')\n",
    "# insert into Logs (id, num) values ('3', '1')\n",
    "# insert into Logs (id, num) values ('4', '2')\n",
    "# insert into Logs (id, num) values ('5', '1')\n",
    "# insert into Logs (id, num) values ('6', '2')\n",
    "# insert into Logs (id, num) values ('7', '2')"
   ]
  },
  {
   "cell_type": "code",
   "execution_count": 2,
   "metadata": {},
   "outputs": [],
   "source": [
    "# Table: Logs\n",
    "\n",
    "# +-------------+---------+\n",
    "# | Column Name | Type    |\n",
    "# +-------------+---------+\n",
    "# | id          | int     |\n",
    "# | num         | varchar |\n",
    "# +-------------+---------+\n",
    "# id is the primary key for this table.\n",
    "# id is an autoincrement column.\n",
    " \n",
    "\n",
    "# Write an SQL query to find all numbers that appear at least three times consecutively.\n",
    "\n",
    "# Return the result table in any order.\n",
    "\n",
    "# The query result format is in the following example.\n",
    "\n",
    " \n",
    "\n",
    "# Example 1:\n",
    "\n",
    "# Input: \n",
    "# Logs table:\n",
    "# +----+-----+\n",
    "# | id | num |\n",
    "# +----+-----+\n",
    "# | 1  | 1   |\n",
    "# | 2  | 1   |\n",
    "# | 3  | 1   |\n",
    "# | 4  | 2   |\n",
    "# | 5  | 1   |\n",
    "# | 6  | 2   |\n",
    "# | 7  | 2   |\n",
    "# +----+-----+\n",
    "# Output: \n",
    "# +-----------------+\n",
    "# | ConsecutiveNums |\n",
    "# +-----------------+\n",
    "# | 1               |\n",
    "# +-----------------+\n",
    "# Explanation: 1 is the only number that appears consecutively for at least three times."
   ]
  },
  {
   "cell_type": "code",
   "execution_count": null,
   "metadata": {},
   "outputs": [],
   "source": [
    "# Write your MySQL query statement below\n",
    "# Select distinct(num) as ConsecutiveNums\n",
    "# from(\n",
    "# Select id,num,\n",
    "# lag(num) over(order by id) as prev_num,\n",
    "# lead(num) over(order by id) as next_num\n",
    "# from Logs\n",
    "# ) sq\n",
    "# where sq.num = sq.prev_num and sq.prev_num = sq.next_num"
   ]
  }
 ],
 "metadata": {
  "kernelspec": {
   "display_name": "venv",
   "language": "python",
   "name": "python3"
  },
  "language_info": {
   "codemirror_mode": {
    "name": "ipython",
    "version": 3
   },
   "file_extension": ".py",
   "mimetype": "text/x-python",
   "name": "python",
   "nbconvert_exporter": "python",
   "pygments_lexer": "ipython3",
   "version": "3.10.8"
  },
  "orig_nbformat": 4,
  "vscode": {
   "interpreter": {
    "hash": "e21ce834497d1478e189af80584bfd1d06f92d53aa5d0cc1a691c0b63e72c86f"
   }
  }
 },
 "nbformat": 4,
 "nbformat_minor": 2
}
