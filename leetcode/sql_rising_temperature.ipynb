{
 "cells": [
  {
   "cell_type": "code",
   "execution_count": 1,
   "metadata": {},
   "outputs": [],
   "source": [
    "# Create table If Not Exists Weather (id int, recordDate date, temperature int)\n",
    "# Truncate table Weather\n",
    "# insert into Weather (id, recordDate, temperature) values ('1', '2015-01-01', '10')\n",
    "# insert into Weather (id, recordDate, temperature) values ('2', '2015-01-02', '25')\n",
    "# insert into Weather (id, recordDate, temperature) values ('3', '2015-01-03', '20')\n",
    "# insert into Weather (id, recordDate, temperature) values ('4', '2015-01-04', '30')"
   ]
  },
  {
   "cell_type": "code",
   "execution_count": 2,
   "metadata": {},
   "outputs": [],
   "source": [
    "# Table: Weather\n",
    "\n",
    "# +---------------+---------+\n",
    "# | Column Name   | Type    |\n",
    "# +---------------+---------+\n",
    "# | id            | int     |\n",
    "# | recordDate    | date    |\n",
    "# | temperature   | int     |\n",
    "# +---------------+---------+\n",
    "# id is the primary key for this table.\n",
    "# This table contains information about the temperature on a certain day.\n",
    " \n",
    "\n",
    "# Write an SQL query to find all dates' Id with higher temperatures compared to its previous dates (yesterday).\n",
    "\n",
    "# Return the result table in any order.\n",
    "\n",
    "# The query result format is in the following example.\n",
    "\n",
    " \n",
    "\n",
    "# Example 1:\n",
    "\n",
    "# Input: \n",
    "# Weather table:\n",
    "# +----+------------+-------------+\n",
    "# | id | recordDate | temperature |\n",
    "# +----+------------+-------------+\n",
    "# | 1  | 2015-01-01 | 10          |\n",
    "# | 2  | 2015-01-02 | 25          |\n",
    "# | 3  | 2015-01-03 | 20          |\n",
    "# | 4  | 2015-01-04 | 30          |\n",
    "# +----+------------+-------------+\n",
    "# Output: \n",
    "# +----+\n",
    "# | id |\n",
    "# +----+\n",
    "# | 2  |\n",
    "# | 4  |\n",
    "# +----+\n",
    "# Explanation: \n",
    "# In 2015-01-02, the temperature was higher than the previous day (10 -> 25).\n",
    "# In 2015-01-04, the temperature was higher than the previous day (20 -> 30).\n",
    "# Accepted\n",
    "# 307K\n",
    "# Submissions\n",
    "# 687.2K\n",
    "# Acceptance Rate\n",
    "# 44.7%"
   ]
  },
  {
   "cell_type": "code",
   "execution_count": null,
   "metadata": {},
   "outputs": [],
   "source": []
  }
 ],
 "metadata": {
  "kernelspec": {
   "display_name": "venv",
   "language": "python",
   "name": "python3"
  },
  "language_info": {
   "codemirror_mode": {
    "name": "ipython",
    "version": 3
   },
   "file_extension": ".py",
   "mimetype": "text/x-python",
   "name": "python",
   "nbconvert_exporter": "python",
   "pygments_lexer": "ipython3",
   "version": "3.10.8"
  },
  "orig_nbformat": 4,
  "vscode": {
   "interpreter": {
    "hash": "e21ce834497d1478e189af80584bfd1d06f92d53aa5d0cc1a691c0b63e72c86f"
   }
  }
 },
 "nbformat": 4,
 "nbformat_minor": 2
}
