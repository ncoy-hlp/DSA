{
 "cells": [
  {
   "cell_type": "code",
   "execution_count": 1,
   "metadata": {},
   "outputs": [],
   "source": [
    "%load_ext lab_black"
   ]
  },
  {
   "cell_type": "code",
   "execution_count": 2,
   "metadata": {},
   "outputs": [],
   "source": [
    "# Given a string s, find the length of the longest\n",
    "# substring\n",
    "#  without repeating characters.\n",
    "\n",
    "\n",
    "# Example 1:\n",
    "\n",
    "# Input: s = \"abcabcbb\"\n",
    "# Output: 3\n",
    "# Explanation: The answer is \"abc\", with the length of 3.\n",
    "# Example 2:\n",
    "\n",
    "# Input: s = \"bbbbb\"\n",
    "# Output: 1\n",
    "# Explanation: The answer is \"b\", with the length of 1.\n",
    "# Example 3:\n",
    "\n",
    "# Input: s = \"pwwkew\"\n",
    "# Output: 3\n",
    "# Explanation: The answer is \"wke\", with the length of 3.\n",
    "# Notice that the answer must be a substring, \"pwke\" is a subsequence and not a substring.\n",
    "\n",
    "\n",
    "# Constraints:\n",
    "\n",
    "# 0 <= s.length <= 5 * 104\n",
    "# s consists of English letters, digits, symbols and spaces.\n",
    "# Accepted\n",
    "# 4.3M\n",
    "# Submissions\n",
    "# 12.7M\n",
    "# Acceptance Rate\n",
    "# 33.8%"
   ]
  },
  {
   "cell_type": "code",
   "execution_count": 67,
   "metadata": {},
   "outputs": [],
   "source": [
    "def longest_substring(s):\n",
    "    longest_sub_string = \"\"\n",
    "    temp_sub_string = \"\"\n",
    "    for index in range(len(s)):\n",
    "        if index == 0:\n",
    "            temp_sub_string += s[index]\n",
    "        else:\n",
    "            if s[index] in temp_sub_string:\n",
    "                if len(temp_sub_string) > len(longest_sub_string):\n",
    "                    longest_sub_string = temp_sub_string\n",
    "                temp_sub_string = s[index]\n",
    "            else:\n",
    "                temp_sub_string += s[index]\n",
    "    if len(longest_sub_string) > len(temp_sub_string):\n",
    "        return len(longest_sub_string)\n",
    "    else:\n",
    "        return len(temp_sub_string)"
   ]
  },
  {
   "cell_type": "code",
   "execution_count": 68,
   "metadata": {},
   "outputs": [],
   "source": [
    "class Solution:\n",
    "    def lengthOfLongestSubstring(self, s: str) -> int:\n",
    "        forward = longest_substring(s)\n",
    "        reverse = longest_substring(s[::-1])\n",
    "        if forward > reverse:\n",
    "            return forward\n",
    "        else:\n",
    "            return reverse"
   ]
  },
  {
   "cell_type": "code",
   "execution_count": 69,
   "metadata": {},
   "outputs": [
    {
     "data": {
      "text/plain": [
       "3"
      ]
     },
     "execution_count": 69,
     "metadata": {},
     "output_type": "execute_result"
    }
   ],
   "source": [
    "s = \"abcabcbb\"\n",
    "output = 3\n",
    "s1 = Solution()\n",
    "s1.lengthOfLongestSubstring(s=s)"
   ]
  },
  {
   "cell_type": "code",
   "execution_count": 70,
   "metadata": {},
   "outputs": [
    {
     "data": {
      "text/plain": [
       "1"
      ]
     },
     "execution_count": 70,
     "metadata": {},
     "output_type": "execute_result"
    }
   ],
   "source": [
    "s = \"bbbbb\"\n",
    "output = 1\n",
    "s1 = Solution()\n",
    "s1.lengthOfLongestSubstring(s=s)"
   ]
  },
  {
   "cell_type": "code",
   "execution_count": 71,
   "metadata": {},
   "outputs": [
    {
     "data": {
      "text/plain": [
       "3"
      ]
     },
     "execution_count": 71,
     "metadata": {},
     "output_type": "execute_result"
    }
   ],
   "source": [
    "s = \"pwwkew\"\n",
    "Output = 3\n",
    "s1 = Solution()\n",
    "s1.lengthOfLongestSubstring(s=s)"
   ]
  },
  {
   "cell_type": "code",
   "execution_count": 72,
   "metadata": {},
   "outputs": [
    {
     "data": {
      "text/plain": [
       "0"
      ]
     },
     "execution_count": 72,
     "metadata": {},
     "output_type": "execute_result"
    }
   ],
   "source": [
    "s = \"\"\n",
    "Output = 0\n",
    "s1 = Solution()\n",
    "s1.lengthOfLongestSubstring(s=s)"
   ]
  },
  {
   "cell_type": "code",
   "execution_count": 73,
   "metadata": {},
   "outputs": [
    {
     "data": {
      "text/plain": [
       "1"
      ]
     },
     "execution_count": 73,
     "metadata": {},
     "output_type": "execute_result"
    }
   ],
   "source": [
    "s = \" \"\n",
    "Output = 0\n",
    "s1 = Solution()\n",
    "s1.lengthOfLongestSubstring(s=s)"
   ]
  },
  {
   "cell_type": "code",
   "execution_count": 75,
   "metadata": {},
   "outputs": [
    {
     "data": {
      "text/plain": [
       "3"
      ]
     },
     "execution_count": 75,
     "metadata": {},
     "output_type": "execute_result"
    }
   ],
   "source": [
    "s = \"dvdf\"\n",
    "Output = 0\n",
    "s1 = Solution()\n",
    "s1.lengthOfLongestSubstring(s=s)"
   ]
  },
  {
   "cell_type": "code",
   "execution_count": 76,
   "metadata": {},
   "outputs": [
    {
     "data": {
      "text/plain": [
       "5"
      ]
     },
     "execution_count": 76,
     "metadata": {},
     "output_type": "execute_result"
    }
   ],
   "source": [
    "s =\"asjrgapa\"\n",
    "Output = 0\n",
    "s1 = Solution()\n",
    "s1.lengthOfLongestSubstring(s=s)"
   ]
  },
  {
   "cell_type": "code",
   "execution_count": null,
   "metadata": {},
   "outputs": [],
   "source": [
    "s =\"asjrgapa\"\n"
   ]
  }
 ],
 "metadata": {
  "kernelspec": {
   "display_name": "venv",
   "language": "python",
   "name": "python3"
  },
  "language_info": {
   "codemirror_mode": {
    "name": "ipython",
    "version": 3
   },
   "file_extension": ".py",
   "mimetype": "text/x-python",
   "name": "python",
   "nbconvert_exporter": "python",
   "pygments_lexer": "ipython3",
   "version": "3.10.8"
  },
  "orig_nbformat": 4,
  "vscode": {
   "interpreter": {
    "hash": "e21ce834497d1478e189af80584bfd1d06f92d53aa5d0cc1a691c0b63e72c86f"
   }
  }
 },
 "nbformat": 4,
 "nbformat_minor": 2
}
