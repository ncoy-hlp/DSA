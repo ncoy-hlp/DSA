{
 "cells": [
  {
   "cell_type": "code",
   "execution_count": 1,
   "metadata": {},
   "outputs": [],
   "source": [
    "%load_ext lab_black"
   ]
  },
  {
   "cell_type": "code",
   "execution_count": 2,
   "metadata": {},
   "outputs": [],
   "source": [
    "# Roman numerals are represented by seven different symbols: I, V, X, L, C, D and M.\n",
    "\n",
    "# Symbol       Value\n",
    "# I             1\n",
    "# V             5\n",
    "# X             10\n",
    "# L             50\n",
    "# C             100\n",
    "# D             500\n",
    "# M             1000\n",
    "# For example, 2 is written as II in Roman numeral, just two ones added together. 12 is written as XII, which is simply X + II. The number 27 is written as XXVII, which is XX + V + II.\n",
    "\n",
    "# Roman numerals are usually written largest to smallest from left to right. However, the numeral for four is not IIII. Instead, the number four is written as IV. Because the one is before the five we subtract it making four. The same principle applies to the number nine, which is written as IX. There are six instances where subtraction is used:\n",
    "\n",
    "# I can be placed before V (5) and X (10) to make 4 and 9.\n",
    "# X can be placed before L (50) and C (100) to make 40 and 90.\n",
    "# C can be placed before D (500) and M (1000) to make 400 and 900.\n",
    "# Given a roman numeral, convert it to an integer."
   ]
  },
  {
   "cell_type": "code",
   "execution_count": 3,
   "metadata": {},
   "outputs": [],
   "source": [
    "# Example 1:\n",
    "\n",
    "# Input: s = \"III\"\n",
    "# Output: 3\n",
    "# Explanation: III = 3.\n",
    "# Example 2:\n",
    "\n",
    "# Input: s = \"LVIII\"\n",
    "# Output: 58\n",
    "# Explanation: L = 50, V= 5, III = 3.\n",
    "# Example 3:\n",
    "\n",
    "# Input: s = \"MCMXCIV\"\n",
    "# Output: 1994\n",
    "# Explanation: M = 1000, CM = 900, XC = 90 and IV = 4."
   ]
  },
  {
   "cell_type": "code",
   "execution_count": 4,
   "metadata": {},
   "outputs": [],
   "source": [
    "class Solution:\n",
    "    def romanToInt(self, s: str) -> int:\n",
    "        look_up = {\"I\": 1, \"V\": 5, \"X\": 10, \"L\": 50, \"C\": 100, \"D\": 500, \"M\": 1000}\n",
    "        number = 0\n",
    "        cum_sum = 0\n",
    "        for count, indi in enumerate(s):\n",
    "            value = look_up[indi]\n",
    "            if count > 0:\n",
    "                if number < value:\n",
    "                    cum_sum -= number\n",
    "                    cum_sum += value - number\n",
    "                    number = value\n",
    "                else:\n",
    "                    cum_sum += value\n",
    "                    number = value\n",
    "            else:\n",
    "                cum_sum += value\n",
    "                number = value\n",
    "        return cum_sum"
   ]
  },
  {
   "cell_type": "code",
   "execution_count": 5,
   "metadata": {},
   "outputs": [],
   "source": [
    "s1 = Solution()"
   ]
  },
  {
   "cell_type": "code",
   "execution_count": 7,
   "metadata": {},
   "outputs": [
    {
     "name": "stdout",
     "output_type": "stream",
     "text": [
      "True\n",
      "True\n",
      "True\n"
     ]
    }
   ],
   "source": [
    "test_cases = [\n",
    "    {\"s\": \"III\", \"output\": 3},\n",
    "    {\"s\": \"LVIII\", \"output\": 58},\n",
    "    {\"s\": \"MCMXCIV\", \"output\": 1994},\n",
    "]\n",
    "for test_case in test_cases:\n",
    "    output = s1.romanToInt(s=test_case[\"s\"])\n",
    "    print(output == test_case[\"output\"])"
   ]
  },
  {
   "cell_type": "code",
   "execution_count": 8,
   "metadata": {},
   "outputs": [],
   "source": [
    "# https://leetcode.com/submissions/detail/831807366/"
   ]
  }
 ],
 "metadata": {
  "kernelspec": {
   "display_name": "venv",
   "language": "python",
   "name": "python3"
  },
  "language_info": {
   "codemirror_mode": {
    "name": "ipython",
    "version": 3
   },
   "file_extension": ".py",
   "mimetype": "text/x-python",
   "name": "python",
   "nbconvert_exporter": "python",
   "pygments_lexer": "ipython3",
   "version": "3.10.8"
  },
  "orig_nbformat": 4,
  "vscode": {
   "interpreter": {
    "hash": "e21ce834497d1478e189af80584bfd1d06f92d53aa5d0cc1a691c0b63e72c86f"
   }
  }
 },
 "nbformat": 4,
 "nbformat_minor": 2
}
