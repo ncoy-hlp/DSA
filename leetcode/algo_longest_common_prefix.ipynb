{
 "cells": [
  {
   "cell_type": "code",
   "execution_count": 1,
   "metadata": {},
   "outputs": [],
   "source": [
    "%load_ext lab_black"
   ]
  },
  {
   "cell_type": "code",
   "execution_count": 2,
   "metadata": {},
   "outputs": [],
   "source": [
    "# Write a function to find the longest common prefix string amongst an array of strings.\n",
    "\n",
    "# If there is no common prefix, return an empty string \"\".\n",
    "\n",
    "\n",
    "# Example 1:\n",
    "\n",
    "# Input: strs = [\"flower\",\"flow\",\"flight\"]\n",
    "# Output: \"fl\"\n",
    "# Example 2:\n",
    "\n",
    "# Input: strs = [\"dog\",\"racecar\",\"car\"]\n",
    "# Output: \"\"\n",
    "# Explanation: There is no common prefix among the input strings."
   ]
  },
  {
   "cell_type": "code",
   "execution_count": 3,
   "metadata": {},
   "outputs": [],
   "source": [
    "from typing import List"
   ]
  },
  {
   "cell_type": "code",
   "execution_count": 4,
   "metadata": {},
   "outputs": [],
   "source": [
    "class Solution:\n",
    "    def longestCommonPrefix(self, strs: List[str]) -> str:\n",
    "        strs.sort()\n",
    "        index = 0\n",
    "        prefix = \"\"\n",
    "\n",
    "        def extract_elements(strs, index):\n",
    "            items = []\n",
    "            for string in strs:\n",
    "                if index < len(string):\n",
    "                    items.append(string[index])\n",
    "            return items\n",
    "\n",
    "        while index < len(strs[0]):\n",
    "            result = extract_elements(strs, index)\n",
    "            if all(x == result[0] for x in result):\n",
    "                prefix += result[0]\n",
    "                index += 1\n",
    "            else:\n",
    "                break\n",
    "        return prefix"
   ]
  },
  {
   "cell_type": "code",
   "execution_count": 5,
   "metadata": {},
   "outputs": [],
   "source": [
    "s1 = Solution()"
   ]
  },
  {
   "cell_type": "code",
   "execution_count": 6,
   "metadata": {},
   "outputs": [
    {
     "name": "stdout",
     "output_type": "stream",
     "text": [
      "True\n",
      "True\n"
     ]
    }
   ],
   "source": [
    "test_cases = [\n",
    "    {\"strs\": [\"flower\", \"flow\", \"flight\"], \"output\": \"fl\"},\n",
    "    {\"strs\": [\"dog\", \"racecar\", \"car\"], \"output\": \"\"},\n",
    "]\n",
    "for test_case in test_cases:\n",
    "    output = s1.longestCommonPrefix(strs=test_case[\"strs\"])\n",
    "    print(output == test_case[\"output\"])"
   ]
  },
  {
   "cell_type": "code",
   "execution_count": 7,
   "metadata": {},
   "outputs": [],
   "source": [
    "#  https://leetcode.com/submissions/detail/833615658/"
   ]
  }
 ],
 "metadata": {
  "kernelspec": {
   "display_name": "venv",
   "language": "python",
   "name": "python3"
  },
  "language_info": {
   "codemirror_mode": {
    "name": "ipython",
    "version": 3
   },
   "file_extension": ".py",
   "mimetype": "text/x-python",
   "name": "python",
   "nbconvert_exporter": "python",
   "pygments_lexer": "ipython3",
   "version": "3.10.8"
  },
  "orig_nbformat": 4,
  "vscode": {
   "interpreter": {
    "hash": "e21ce834497d1478e189af80584bfd1d06f92d53aa5d0cc1a691c0b63e72c86f"
   }
  }
 },
 "nbformat": 4,
 "nbformat_minor": 2
}
