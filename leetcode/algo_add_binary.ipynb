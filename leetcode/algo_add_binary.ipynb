{
 "cells": [
  {
   "cell_type": "code",
   "execution_count": 1,
   "metadata": {},
   "outputs": [],
   "source": [
    "%load_ext lab_black"
   ]
  },
  {
   "cell_type": "code",
   "execution_count": 2,
   "metadata": {},
   "outputs": [],
   "source": [
    "# Given two binary strings a and b, return their sum as a binary string.\n",
    "\n",
    "\n",
    "# Example 1:\n",
    "\n",
    "# Input: a = \"11\", b = \"1\"\n",
    "# Output: \"100\"\n",
    "# Example 2:\n",
    "\n",
    "# Input: a = \"1010\", b = \"1011\"\n",
    "# Output: \"10101\"\n",
    "\n",
    "\n",
    "# Constraints:\n",
    "\n",
    "# 1 <= a.length, b.length <= 104\n",
    "# a and b consist only of '0' or '1' characters.\n",
    "# Each string does not contain leading zeros except for the zero itself.\n",
    "# Accepted\n",
    "# 1.1M\n",
    "# Submissions\n",
    "# 2.1M\n",
    "# Acceptance Rate\n",
    "# 52.4%"
   ]
  },
  {
   "cell_type": "code",
   "execution_count": null,
   "metadata": {},
   "outputs": [],
   "source": []
  }
 ],
 "metadata": {
  "kernelspec": {
   "display_name": "venv",
   "language": "python",
   "name": "python3"
  },
  "language_info": {
   "codemirror_mode": {
    "name": "ipython",
    "version": 3
   },
   "file_extension": ".py",
   "mimetype": "text/x-python",
   "name": "python",
   "nbconvert_exporter": "python",
   "pygments_lexer": "ipython3",
   "version": "3.10.8"
  },
  "orig_nbformat": 4,
  "vscode": {
   "interpreter": {
    "hash": "e21ce834497d1478e189af80584bfd1d06f92d53aa5d0cc1a691c0b63e72c86f"
   }
  }
 },
 "nbformat": 4,
 "nbformat_minor": 2
}
