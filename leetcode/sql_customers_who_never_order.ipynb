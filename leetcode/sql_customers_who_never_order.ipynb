{
 "cells": [
  {
   "cell_type": "code",
   "execution_count": null,
   "metadata": {},
   "outputs": [],
   "source": [
    "# table schema\n",
    "# Create table If Not Exists Customers (id int, name varchar(255))\n",
    "# Create table If Not Exists Orders (id int, customerId int)\n",
    "# Truncate table Customers\n",
    "# insert into Customers (id, name) values ('1', 'Joe')\n",
    "# insert into Customers (id, name) values ('2', 'Henry')\n",
    "# insert into Customers (id, name) values ('3', 'Sam')\n",
    "# insert into Customers (id, name) values ('4', 'Max')\n",
    "# Truncate table Orders\n",
    "# insert into Orders (id, customerId) values ('1', '3')\n",
    "# insert into Orders (id, customerId) values ('2', '1')"
   ]
  },
  {
   "cell_type": "code",
   "execution_count": null,
   "metadata": {},
   "outputs": [],
   "source": [
    "#  Table: Customers\n",
    "\n",
    "# +-------------+---------+\n",
    "# | Column Name | Type    |\n",
    "# +-------------+---------+\n",
    "# | id          | int     |\n",
    "# | name        | varchar |\n",
    "# +-------------+---------+\n",
    "# id is the primary key column for this table.\n",
    "# Each row of this table indicates the ID and name of a customer.\n",
    " \n",
    "\n",
    "# Table: Orders\n",
    "\n",
    "# +-------------+------+\n",
    "# | Column Name | Type |\n",
    "# +-------------+------+\n",
    "# | id          | int  |\n",
    "# | customerId  | int  |\n",
    "# +-------------+------+\n",
    "# id is the primary key column for this table.\n",
    "# customerId is a foreign key of the ID from the Customers table.\n",
    "# Each row of this table indicates the ID of an order and the ID of the customer who ordered it.\n",
    " \n",
    "\n",
    "# Write an SQL query to report all customers who never order anything.\n",
    "\n",
    "# Return the result table in any order.\n",
    "\n",
    "# The query result format is in the following example.\n",
    "\n",
    " \n",
    "\n",
    "# Example 1:\n",
    "\n",
    "# Input: \n",
    "# Customers table:\n",
    "# +----+-------+\n",
    "# | id | name  |\n",
    "# +----+-------+\n",
    "# | 1  | Joe   |\n",
    "# | 2  | Henry |\n",
    "# | 3  | Sam   |\n",
    "# | 4  | Max   |\n",
    "# +----+-------+\n",
    "# Orders table:\n",
    "# +----+------------+\n",
    "# | id | customerId |\n",
    "# +----+------------+\n",
    "# | 1  | 3          |\n",
    "# | 2  | 1          |\n",
    "# +----+------------+\n",
    "# Output: \n",
    "# +-----------+\n",
    "# | Customers |\n",
    "# +-----------+\n",
    "# | Henry     |\n",
    "# | Max       |\n",
    "# +-----------+"
   ]
  },
  {
   "cell_type": "code",
   "execution_count": null,
   "metadata": {},
   "outputs": [],
   "source": [
    "# Write your MySQL query statement below\n",
    "# SELECT c.name as \"Customers\"\n",
    "# FROM Customers c\n",
    "# Left Join Orders o\n",
    "# ON c.id = o.customerId\n",
    "# WHERE\n",
    "#     o.id is Null"
   ]
  }
 ],
 "metadata": {
  "kernelspec": {
   "display_name": "venv",
   "language": "python",
   "name": "python3"
  },
  "language_info": {
   "name": "python",
   "version": "3.10.8"
  },
  "orig_nbformat": 4,
  "vscode": {
   "interpreter": {
    "hash": "e21ce834497d1478e189af80584bfd1d06f92d53aa5d0cc1a691c0b63e72c86f"
   }
  }
 },
 "nbformat": 4,
 "nbformat_minor": 2
}
