{
 "cells": [
  {
   "cell_type": "code",
   "execution_count": null,
   "metadata": {},
   "outputs": [],
   "source": [
    "# Table: Employee\n",
    "\n",
    "# +-------------+------+\n",
    "# | Column Name | Type |\n",
    "# +-------------+------+\n",
    "# | id          | int  |\n",
    "# | salary      | int  |\n",
    "# +-------------+------+\n",
    "# id is the primary key column for this table.\n",
    "# Each row of this table contains information about the salary of an employee.\n",
    " \n",
    "\n",
    "# Write an SQL query to report the second highest salary from the Employee table. If there is no second highest salary, the query should report null.\n",
    "\n",
    "# The query result format is in the following example.\n",
    "\n",
    " \n",
    "\n",
    "# Example 1:\n",
    "\n",
    "# Input: \n",
    "# Employee table:\n",
    "# +----+--------+\n",
    "# | id | salary |\n",
    "# +----+--------+\n",
    "# | 1  | 100    |\n",
    "# | 2  | 200    |\n",
    "# | 3  | 300    |\n",
    "# +----+--------+\n",
    "# Output: \n",
    "# +---------------------+\n",
    "# | SecondHighestSalary |\n",
    "# +---------------------+\n",
    "# | 200                 |\n",
    "# +---------------------+\n",
    "# Example 2:\n",
    "\n",
    "# Input: \n",
    "# Employee table:\n",
    "# +----+--------+\n",
    "# | id | salary |\n",
    "# +----+--------+\n",
    "# | 1  | 100    |\n",
    "# +----+--------+\n",
    "# Output: \n",
    "# +---------------------+\n",
    "# | SecondHighestSalary |\n",
    "# +---------------------+\n",
    "# | null                |\n",
    "# +---------------------+"
   ]
  },
  {
   "cell_type": "code",
   "execution_count": null,
   "metadata": {},
   "outputs": [],
   "source": [
    "# SELECT MAX(salary) as SecondHighestSalary\n",
    "# FROM Employee\n",
    "# WHERE salary <> (SELECT MAX(salary) FROM Employee)\n",
    "# ;"
   ]
  }
 ],
 "metadata": {
  "kernelspec": {
   "display_name": "venv",
   "language": "python",
   "name": "python3"
  },
  "language_info": {
   "name": "python",
   "version": "3.10.8"
  },
  "orig_nbformat": 4,
  "vscode": {
   "interpreter": {
    "hash": "e21ce834497d1478e189af80584bfd1d06f92d53aa5d0cc1a691c0b63e72c86f"
   }
  }
 },
 "nbformat": 4,
 "nbformat_minor": 2
}
