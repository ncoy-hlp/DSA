{
 "cells": [
  {
   "cell_type": "code",
   "execution_count": 1,
   "metadata": {},
   "outputs": [],
   "source": [
    "# Create table If Not Exists Person (Id int, Email varchar(255))\n",
    "# Truncate table Person\n",
    "# insert into Person (id, email) values ('1', 'john@example.com')\n",
    "# insert into Person (id, email) values ('2', 'bob@example.com')\n",
    "# insert into Person (id, email) values ('3', 'john@example.com')"
   ]
  },
  {
   "cell_type": "code",
   "execution_count": 2,
   "metadata": {},
   "outputs": [],
   "source": [
    "# Table: Person\n",
    "\n",
    "# +-------------+---------+\n",
    "# | Column Name | Type    |\n",
    "# +-------------+---------+\n",
    "# | id          | int     |\n",
    "# | email       | varchar |\n",
    "# +-------------+---------+\n",
    "# id is the primary key column for this table.\n",
    "# Each row of this table contains an email. The emails will not contain uppercase letters.\n",
    " \n",
    "\n",
    "# Write an SQL query to delete all the duplicate emails, keeping only one unique email with the smallest id. Note that you are supposed to write a DELETE statement and not a SELECT one.\n",
    "\n",
    "# After running your script, the answer shown is the Person table. The driver will first compile and run your piece of code and then show the Person table. The final order of the Person table does not matter.\n",
    "\n",
    "# The query result format is in the following example.\n",
    "\n",
    " \n",
    "\n",
    "# Example 1:\n",
    "\n",
    "# Input: \n",
    "# Person table:\n",
    "# +----+------------------+\n",
    "# | id | email            |\n",
    "# +----+------------------+\n",
    "# | 1  | john@example.com |\n",
    "# | 2  | bob@example.com  |\n",
    "# | 3  | john@example.com |\n",
    "# +----+------------------+\n",
    "# Output: \n",
    "# +----+------------------+\n",
    "# | id | email            |\n",
    "# +----+------------------+\n",
    "# | 1  | john@example.com |\n",
    "# | 2  | bob@example.com  |\n",
    "# +----+------------------+\n",
    "# Explanation: john@example.com is repeated two times. We keep the row with the smallest Id = 1.\n",
    "# Accepted\n",
    "# 350.7K\n",
    "# Submissions\n",
    "# 582.2K\n",
    "# Acceptance Rate\n",
    "# 60.2%"
   ]
  },
  {
   "cell_type": "code",
   "execution_count": null,
   "metadata": {},
   "outputs": [],
   "source": [
    "# Please write a DELETE statement and DO NOT write a SELECT statement.\n",
    "# Write your MySQL query statement below\n",
    "# WITH delete_cte as(\n",
    "# SELECT id\n",
    "# FROM(\n",
    "# SELECT\n",
    "#     id,\n",
    "#     email,\n",
    "#     row_number() OVER(PARTITION BY email order by id) as \"row_num\"\n",
    "# FROM Person)t1\n",
    "# WHERE\n",
    "# \tt1.row_num <> 1\n",
    "# )\n",
    "# DELETE\n",
    "# FROM Person\n",
    "# WHERE\n",
    "#     id in (select * FROM delete_cte)"
   ]
  }
 ],
 "metadata": {
  "kernelspec": {
   "display_name": "venv",
   "language": "python",
   "name": "python3"
  },
  "language_info": {
   "codemirror_mode": {
    "name": "ipython",
    "version": 3
   },
   "file_extension": ".py",
   "mimetype": "text/x-python",
   "name": "python",
   "nbconvert_exporter": "python",
   "pygments_lexer": "ipython3",
   "version": "3.10.8"
  },
  "orig_nbformat": 4,
  "vscode": {
   "interpreter": {
    "hash": "e21ce834497d1478e189af80584bfd1d06f92d53aa5d0cc1a691c0b63e72c86f"
   }
  }
 },
 "nbformat": 4,
 "nbformat_minor": 2
}
