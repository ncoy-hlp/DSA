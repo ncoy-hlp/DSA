{
 "cells": [
  {
   "cell_type": "code",
   "execution_count": 1,
   "metadata": {},
   "outputs": [],
   "source": [
    "%load_ext lab_black"
   ]
  },
  {
   "cell_type": "code",
   "execution_count": 2,
   "metadata": {},
   "outputs": [
    {
     "name": "stdout",
     "output_type": "stream",
     "text": [
      "Before num2 value is updated:\n",
      "num1 = 11\n",
      "num2 = 11\n",
      "\n",
      "num1 points to: 4512318000\n",
      "num2 points to: 4512318000\n",
      "\n",
      "After num2 value is updated:\n",
      "num1 = 11\n",
      "num2 = 22\n",
      "\n",
      "num1 points to: 4512318000\n",
      "num2 points to: 4512318352\n"
     ]
    }
   ],
   "source": [
    "# num1 is a variable which holds an integer\n",
    "# num2 is not actually a seperate variable\n",
    "# when we print the id we can see the adress in memory is the same\n",
    "# integers are immutable, they cannot be changed once set\n",
    "num1 = 11\n",
    "\n",
    "num2 = num1\n",
    "\n",
    "print(\"Before num2 value is updated:\")\n",
    "print(\"num1 =\", num1)\n",
    "print(\"num2 =\", num2)\n",
    "\n",
    "print(\"\\nnum1 points to:\", id(num1))\n",
    "print(\"num2 points to:\", id(num2))\n",
    "\n",
    "# now we set num2 to an integer\n",
    "# we can see based on the id that\n",
    "# num1 has not changed\n",
    "# num2 is now pointing to a different memory address\n",
    "num2 = 22\n",
    "\n",
    "print(\"\\nAfter num2 value is updated:\")\n",
    "print(\"num1 =\", num1)\n",
    "print(\"num2 =\", num2)\n",
    "\n",
    "print(\"\\nnum1 points to:\", id(num1))\n",
    "print(\"num2 points to:\", id(num2))"
   ]
  },
  {
   "cell_type": "code",
   "execution_count": 3,
   "metadata": {},
   "outputs": [
    {
     "name": "stdout",
     "output_type": "stream",
     "text": [
      "\n",
      "\n",
      "Before value is updated:\n",
      "dict1 = {'value': 11}\n",
      "dict2 = {'value': 11}\n",
      "\n",
      "dict1 points to: 4564379008\n",
      "dict2 points to: 4564379008\n",
      "\n",
      "After value is updated:\n",
      "dict1 = {'value': 22}\n",
      "dict2 = {'value': 22}\n",
      "\n",
      "dict1 points to: 4564379008\n",
      "dict2 points to: 4564379008\n"
     ]
    }
   ],
   "source": [
    "# using dictionaries we can see changing\n",
    "# dictionary 2 changes both dictionary 1 and 2\n",
    "# the memory address did not change\n",
    "# dictionaries are mutable\n",
    "dict1 = {\"value\": 11}\n",
    "\n",
    "dict2 = dict1\n",
    "\n",
    "print(\"\\n\\nBefore value is updated:\")\n",
    "print(\"dict1 =\", dict1)\n",
    "print(\"dict2 =\", dict2)\n",
    "\n",
    "print(\"\\ndict1 points to:\", id(dict1))\n",
    "print(\"dict2 points to:\", id(dict2))\n",
    "\n",
    "dict2[\"value\"] = 22\n",
    "\n",
    "print(\"\\nAfter value is updated:\")\n",
    "print(\"dict1 =\", dict1)\n",
    "print(\"dict2 =\", dict2)\n",
    "\n",
    "print(\"\\ndict1 points to:\", id(dict1))\n",
    "print(\"dict2 points to:\", id(dict2))"
   ]
  },
  {
   "cell_type": "code",
   "execution_count": null,
   "metadata": {},
   "outputs": [],
   "source": []
  }
 ],
 "metadata": {
  "kernelspec": {
   "display_name": "venv",
   "language": "python",
   "name": "python3"
  },
  "language_info": {
   "codemirror_mode": {
    "name": "ipython",
    "version": 3
   },
   "file_extension": ".py",
   "mimetype": "text/x-python",
   "name": "python",
   "nbconvert_exporter": "python",
   "pygments_lexer": "ipython3",
   "version": "3.10.8"
  },
  "orig_nbformat": 4,
  "vscode": {
   "interpreter": {
    "hash": "e21ce834497d1478e189af80584bfd1d06f92d53aa5d0cc1a691c0b63e72c86f"
   }
  }
 },
 "nbformat": 4,
 "nbformat_minor": 2
}
