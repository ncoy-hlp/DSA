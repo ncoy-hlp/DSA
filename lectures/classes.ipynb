{
 "cells": [
  {
   "cell_type": "code",
   "execution_count": 1,
   "metadata": {},
   "outputs": [],
   "source": [
    "%load_ext lab_black"
   ]
  },
  {
   "cell_type": "code",
   "execution_count": 2,
   "metadata": {},
   "outputs": [
    {
     "name": "stdout",
     "output_type": "stream",
     "text": [
      "Cookie one is green\n",
      "Cookie two is blue\n",
      "\n",
      "Cookie one is now yellow\n",
      "Cookie two is still blue\n"
     ]
    }
   ],
   "source": [
    "# simple example of defining a class in python\n",
    "# all classes need a constructor the __init__ function\n",
    "# this initializes an instance of a classs\n",
    "# in this case we set one attribute which is color\n",
    "# there are two methods for the class get_color and set_color\n",
    "class Cookie:\n",
    "    def __init__(self, color):\n",
    "        self.color = color\n",
    "\n",
    "    def get_color(self):\n",
    "        return self.color\n",
    "\n",
    "    def set_color(self, color):\n",
    "        self.color = color\n",
    "\n",
    "\n",
    "cookie_one = Cookie(\"green\")\n",
    "cookie_two = Cookie(\"blue\")\n",
    "\n",
    "print(\"Cookie one is\", cookie_one.get_color())\n",
    "print(\"Cookie two is\", cookie_two.get_color())\n",
    "\n",
    "cookie_one.set_color(\"yellow\")\n",
    "\n",
    "print(\"\\nCookie one is now\", cookie_one.get_color())\n",
    "print(\"Cookie two is still\", cookie_two.get_color())"
   ]
  },
  {
   "cell_type": "code",
   "execution_count": null,
   "metadata": {},
   "outputs": [],
   "source": []
  }
 ],
 "metadata": {
  "kernelspec": {
   "display_name": "venv",
   "language": "python",
   "name": "python3"
  },
  "language_info": {
   "codemirror_mode": {
    "name": "ipython",
    "version": 3
   },
   "file_extension": ".py",
   "mimetype": "text/x-python",
   "name": "python",
   "nbconvert_exporter": "python",
   "pygments_lexer": "ipython3",
   "version": "3.10.8"
  },
  "orig_nbformat": 4,
  "vscode": {
   "interpreter": {
    "hash": "e21ce834497d1478e189af80584bfd1d06f92d53aa5d0cc1a691c0b63e72c86f"
   }
  }
 },
 "nbformat": 4,
 "nbformat_minor": 2
}
