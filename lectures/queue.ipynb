{
 "cells": [
  {
   "cell_type": "markdown",
   "metadata": {},
   "source": [
    "# Overview"
   ]
  },
  {
   "cell_type": "code",
   "execution_count": 1,
   "metadata": {},
   "outputs": [],
   "source": [
    "# a queue is like a line when waiting for something at a store\n",
    "# FIFO first in first out\n",
    "# add to queue enqueue\n",
    "# remove is dequeue\n",
    "# can use a list \n",
    "# adding will be O(n)\n",
    "# removing is O(1)\n",
    "# using a linked list is more efficient "
   ]
  },
  {
   "cell_type": "markdown",
   "metadata": {},
   "source": [
    "## Constructor"
   ]
  },
  {
   "cell_type": "code",
   "execution_count": 7,
   "metadata": {},
   "outputs": [],
   "source": [
    "class Node:\n",
    "    def __init__(self, value) -> None:\n",
    "        self.value = value\n",
    "        self.next = None\n",
    "\n",
    "class queue:\n",
    "    def __init__(self, value) -> None:\n",
    "        new_node = Node(value)\n",
    "        self.first = new_node\n",
    "        self.last = new_node\n",
    "        self.length = 1\n",
    "\n",
    "    def print_queue(self):\n",
    "        temp = self.first\n",
    "        while temp:\n",
    "            print(temp.value)\n",
    "            temp = temp.next"
   ]
  },
  {
   "cell_type": "code",
   "execution_count": 8,
   "metadata": {},
   "outputs": [
    {
     "name": "stdout",
     "output_type": "stream",
     "text": [
      "4\n"
     ]
    }
   ],
   "source": [
    "my_queue = queue(4)\n",
    "my_queue.print_queue()"
   ]
  },
  {
   "cell_type": "code",
   "execution_count": null,
   "metadata": {},
   "outputs": [],
   "source": []
  }
 ],
 "metadata": {
  "kernelspec": {
   "display_name": "venv",
   "language": "python",
   "name": "python3"
  },
  "language_info": {
   "codemirror_mode": {
    "name": "ipython",
    "version": 3
   },
   "file_extension": ".py",
   "mimetype": "text/x-python",
   "name": "python",
   "nbconvert_exporter": "python",
   "pygments_lexer": "ipython3",
   "version": "3.10.8"
  },
  "orig_nbformat": 4,
  "vscode": {
   "interpreter": {
    "hash": "e21ce834497d1478e189af80584bfd1d06f92d53aa5d0cc1a691c0b63e72c86f"
   }
  }
 },
 "nbformat": 4,
 "nbformat_minor": 2
}
