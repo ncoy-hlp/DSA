{
 "cells": [
  {
   "cell_type": "code",
   "execution_count": 1,
   "metadata": {},
   "outputs": [],
   "source": [
    "%load_ext lab_black"
   ]
  },
  {
   "attachments": {},
   "cell_type": "markdown",
   "metadata": {},
   "source": [
    "# Overview"
   ]
  },
  {
   "cell_type": "code",
   "execution_count": 2,
   "metadata": {},
   "outputs": [],
   "source": [
    "# list vs linked list\n",
    "# linked list does not have indexes\n",
    "# list is in a contigous place in memory\n",
    "# linked list is not, the values can be spread throughout memory\n",
    "# linked list has head which points to the first node in the list\n",
    "# tail points to the last node\n",
    "# every other node points to the the next node"
   ]
  },
  {
   "attachments": {},
   "cell_type": "markdown",
   "metadata": {},
   "source": [
    "## Big O of Linked Lists"
   ]
  },
  {
   "cell_type": "code",
   "execution_count": 3,
   "metadata": {},
   "outputs": [],
   "source": [
    "# Big O of linked lists and its methods\n",
    "# append a new node to the end of the list\n",
    "# last node and tail will now point to this\n",
    "# this is O(1), the number of operations is constant to append\n",
    "\n",
    "# removing an item\n",
    "# this is actually more complicated\n",
    "# because we need to change where tail points now\n",
    "# we need to start at the head and iterate through the list\n",
    "# in order to point to the now last element of the list\n",
    "# this is O(n)\n",
    "\n",
    "# add an item to the front\n",
    "# we just need to have head point to this item now\n",
    "# the number of operations is constant regardless of n\n",
    "# this is O(1)\n",
    "\n",
    "# removing the first node\n",
    "# head needs to point to the second node\n",
    "# we can get that from the node we are removing since it will point to the second item\n",
    "# this is O(1)\n",
    "\n",
    "# adding an element in the center of a linked list\n",
    "# in order to add the item we need to find where the node in front of the element we\n",
    "# we add is pointing to we have to iterate through the list until we\n",
    "# get to the item in front of what we are adding, have the new item point to that\n",
    "# memory address and then have change the node that was pointing to that item point\n",
    "# to the new item\n",
    "# this is O(n) since we had to iterate through the list\n",
    "\n",
    "# removing an item from the middle of a linked list\n",
    "# in order to remove an item we need to change the pointer\n",
    "# on the previous node to the pointer on the node we are removing\n",
    "# to change this we need to iterate throught the list\n",
    "# O(n)\n",
    "\n",
    "# look up of a linked list\n",
    "# to find an element we have to start at the head\n",
    "# iterate through the list to find the item\n",
    "# this is the same to find an index, we have to iterate through the list\n",
    "# and count to know what node is which index\n",
    "# this is different from list because in lists we know exactly where the index is in memeory\n",
    "# both of these operations are O(n)\n",
    "\n",
    "# to recap a list is more efficient when it comes to\n",
    "# looking up by index and poping an item from the end\n",
    "# both of these are O(1) but O(n) for linked lists\n",
    "# linked lists are more efficient at adding an element at the front prepend\n",
    "# and removing the first element they are O(1) for linked lists but O(n) for lists"
   ]
  },
  {
   "cell_type": "markdown",
   "metadata": {},
   "source": [
    "## under the hood"
   ]
  },
  {
   "cell_type": "code",
   "execution_count": 5,
   "metadata": {},
   "outputs": [
    {
     "name": "stdout",
     "output_type": "stream",
     "text": [
      "23\n"
     ]
    }
   ],
   "source": [
    "# node is both a pointer and a value\n",
    "# can be represented as dict\n",
    "# value and the next node are keys\n",
    "head = {\n",
    "    \"value\": 11,\n",
    "    \"next\": {\"value\": 3, \"next\": {\"value\": 23, \"next\": {\"value\": 7, \"next\": None}}},\n",
    "}\n",
    "# to print 23\n",
    "print(head[\"next\"][\"next\"][\"value\"])"
   ]
  },
  {
   "cell_type": "markdown",
   "metadata": {},
   "source": [
    "## constructor for linked lists"
   ]
  },
  {
   "cell_type": "code",
   "execution_count": null,
   "metadata": {},
   "outputs": [],
   "source": [
    "class LinkedList:\n",
    "    def __init__(self, value):"
   ]
  },
  {
   "cell_type": "code",
   "execution_count": null,
   "metadata": {},
   "outputs": [],
   "source": []
  }
 ],
 "metadata": {
  "kernelspec": {
   "display_name": "venv",
   "language": "python",
   "name": "python3"
  },
  "language_info": {
   "codemirror_mode": {
    "name": "ipython",
    "version": 3
   },
   "file_extension": ".py",
   "mimetype": "text/x-python",
   "name": "python",
   "nbconvert_exporter": "python",
   "pygments_lexer": "ipython3",
   "version": "3.10.8"
  },
  "orig_nbformat": 4,
  "vscode": {
   "interpreter": {
    "hash": "e21ce834497d1478e189af80584bfd1d06f92d53aa5d0cc1a691c0b63e72c86f"
   }
  }
 },
 "nbformat": 4,
 "nbformat_minor": 2
}
