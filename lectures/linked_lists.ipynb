{
 "cells": [
  {
   "cell_type": "code",
   "execution_count": 1,
   "metadata": {},
   "outputs": [],
   "source": [
    "%load_ext lab_black"
   ]
  },
  {
   "attachments": {},
   "cell_type": "markdown",
   "metadata": {},
   "source": [
    "# Overview"
   ]
  },
  {
   "cell_type": "code",
   "execution_count": 2,
   "metadata": {},
   "outputs": [],
   "source": [
    "# list vs linked list\n",
    "# linked list does not have indexes\n",
    "# list is in a contigous place in memory\n",
    "# linked list is not, the values can be spread throughout memory\n",
    "# linked list has head which points to the first node in the list\n",
    "# tail points to the last node\n",
    "# every other node points to the the next node"
   ]
  },
  {
   "attachments": {},
   "cell_type": "markdown",
   "metadata": {},
   "source": [
    "## Big O of Linked Lists"
   ]
  },
  {
   "cell_type": "code",
   "execution_count": 3,
   "metadata": {},
   "outputs": [],
   "source": [
    "# Big O of linked lists and its methods\n",
    "# append a new node to the end of the list\n",
    "# last node and tail will now point to this\n",
    "# this is O(1), the number of operations is constant to append\n",
    "\n",
    "# removing an item\n",
    "# this is actually more complicated\n",
    "# because we need to change where tail points now\n",
    "# we need to start at the head and iterate through the list\n",
    "# in order to point to the now last element of the list\n",
    "# this is O(n)\n",
    "\n",
    "# add an item to the front\n",
    "# we just need to have head point to this item now\n",
    "# the number of operations is constant regardless of n\n",
    "# this is O(1)\n",
    "\n",
    "# removing the first node\n",
    "# head needs to point to the second node\n",
    "# we can get that from the node we are removing since it will point to the second item\n",
    "# this is O(1)\n",
    "\n",
    "# adding an element in the center of a linked list\n",
    "# in order to add the item we need to find where the node in front of the element we\n",
    "# we add is pointing to we have to iterate through the list until we\n",
    "# get to the item in front of what we are adding, have the new item point to that\n",
    "# memory address and then have change the node that was pointing to that item point\n",
    "# to the new item\n",
    "# this is O(n) since we had to iterate through the list\n",
    "\n",
    "# removing an item from the middle of a linked list\n",
    "# in order to remove an item we need to change the pointer\n",
    "# on the previous node to the pointer on the node we are removing\n",
    "# to change this we need to iterate throught the list\n",
    "# O(n)\n",
    "\n",
    "# look up of a linked list\n",
    "# to find an element we have to start at the head\n",
    "# iterate through the list to find the item\n",
    "# this is the same to find an index, we have to iterate through the list\n",
    "# and count to know what node is which index\n",
    "# this is different from list because in lists we know exactly where the index is in memeory\n",
    "# both of these operations are O(n)\n",
    "\n",
    "# to recap a list is more efficient when it comes to\n",
    "# looking up by index and poping an item from the end\n",
    "# both of these are O(1) but O(n) for linked lists\n",
    "# linked lists are more efficient at adding an element at the front prepend\n",
    "# and removing the first element they are O(1) for linked lists but O(n) for lists"
   ]
  },
  {
   "cell_type": "markdown",
   "metadata": {},
   "source": [
    "## under the hood"
   ]
  },
  {
   "cell_type": "code",
   "execution_count": 4,
   "metadata": {},
   "outputs": [
    {
     "name": "stdout",
     "output_type": "stream",
     "text": [
      "23\n"
     ]
    }
   ],
   "source": [
    "# node is both a pointer and a value\n",
    "# can be represented as dict\n",
    "# value and the next node are keys\n",
    "head = {\n",
    "    \"value\": 11,\n",
    "    \"next\": {\"value\": 3, \"next\": {\"value\": 23, \"next\": {\"value\": 7, \"next\": None}}},\n",
    "}\n",
    "# to print 23\n",
    "print(head[\"next\"][\"next\"][\"value\"])"
   ]
  },
  {
   "cell_type": "markdown",
   "metadata": {},
   "source": [
    "## constructor for linked lists"
   ]
  },
  {
   "cell_type": "code",
   "execution_count": 155,
   "metadata": {},
   "outputs": [],
   "source": [
    "# create a class for the nodes in the linked list\n",
    "# as well as the linked list it's self\n",
    "# the methods of the linked list will call on the\n",
    "# class node\n",
    "\n",
    "\n",
    "class Node:\n",
    "    def __init__(self, value):\n",
    "        self.value = value\n",
    "        self.next = None\n",
    "\n",
    "    def __repr__(self):\n",
    "        return f\"Node( value:'{self.value}', next '{self.next}')\"\n",
    "\n",
    "\n",
    "class LinkedList:\n",
    "    def __init__(self, value):\n",
    "        new_node = Node(value)\n",
    "        self.head = new_node\n",
    "        self.tail = new_node\n",
    "        self.length = 1\n",
    "\n",
    "    def make_empty(self):\n",
    "        self.head = None\n",
    "        self.tail = None\n",
    "        self.length = 0\n",
    "\n",
    "    def append(self, value):\n",
    "        new_node = Node(value)\n",
    "        if self.head is None:\n",
    "            self.head = new_node\n",
    "            self.tail = new_node\n",
    "\n",
    "        else:\n",
    "            self.tail.next = new_node\n",
    "            self.tail = new_node\n",
    "        self.length += 1\n",
    "        return True\n",
    "\n",
    "    def pop(self):\n",
    "        if self.length == 0:\n",
    "            return None\n",
    "        else:\n",
    "            temp = self.head\n",
    "            new_tail = self.head\n",
    "            while temp.next:\n",
    "                new_tail = temp\n",
    "                temp = temp.next\n",
    "            new_tail.next = None\n",
    "            self.tail = new_tail\n",
    "            self.length -= 1\n",
    "            if self.length == 0:\n",
    "                self.head = None\n",
    "                self.tail = None\n",
    "            return temp\n",
    "\n",
    "    def pop_first(self):\n",
    "        if self.length == 0:\n",
    "            return None\n",
    "        temp = self.head\n",
    "        self.head = temp.next\n",
    "        temp.next = None\n",
    "        self.length -= 1\n",
    "        if self.length == 0:\n",
    "            self.tail = None\n",
    "        return temp\n",
    "\n",
    "    def get(self, index):\n",
    "        if index < 0 or index > self.length:\n",
    "            return None\n",
    "        temp = self.head\n",
    "        for _ in range(index):\n",
    "            temp = temp.next\n",
    "        return temp\n",
    "\n",
    "    def prepend(self, value):\n",
    "        new_node = Node(value)\n",
    "        if self.length == 0:\n",
    "            self.head = new_node\n",
    "            self.tail = new_node\n",
    "        else:\n",
    "            new_node.next = self.head\n",
    "            self.head = new_node\n",
    "        self.length += 1\n",
    "        return True\n",
    "\n",
    "    def set_value(self, index, value):\n",
    "        temp = self.get(index=index)\n",
    "        if temp:\n",
    "            temp.value = value\n",
    "            return True\n",
    "        return False\n",
    "\n",
    "    def insert(self, index, value):\n",
    "        if index < 0 or index > self.length:\n",
    "            return False\n",
    "        elif index == 0:\n",
    "            return self.prepend(value=value)\n",
    "        elif index == self.length:\n",
    "            return self.append(value=value)\n",
    "        new_node = Node(value)\n",
    "        temp = self.get(index - 1)\n",
    "        new_node.next = temp.next\n",
    "        temp.next = new_node\n",
    "        self.length += 1\n",
    "        return True\n",
    "\n",
    "    def remove(self, index):\n",
    "        if index < 0 or index >= self.length:\n",
    "            return None\n",
    "        elif index == 0:\n",
    "            return self.pop_first()\n",
    "        elif index == self.length - 1:\n",
    "            return self.pop()\n",
    "        else:\n",
    "            pre = self.get(index=index - 1)\n",
    "            temp = pre.next\n",
    "            pre.next = temp.next\n",
    "            temp.next = None\n",
    "        self.length -= 1\n",
    "        return temp\n",
    "\n",
    "    def reverse(self):\n",
    "        temp = self.head\n",
    "        self.head = self.tail\n",
    "        self.tail = temp\n",
    "        before = None\n",
    "        after = temp.next\n",
    "        for _ in range(self.length):\n",
    "            after = temp.next\n",
    "            temp.next = before\n",
    "            before = temp\n",
    "            temp = after\n",
    "\n",
    "    def find_middle_node(self):\n",
    "        fast = self.head\n",
    "        slow = self.head\n",
    "        while fast:\n",
    "            fast = fast.next\n",
    "            if not fast:\n",
    "                break\n",
    "            fast = fast.next\n",
    "            slow = slow.next\n",
    "        return slow\n",
    "\n",
    "    def has_loop(self):\n",
    "        fast = self.head\n",
    "        slow = self.head\n",
    "        while fast is not None and fast.next is not None:\n",
    "            slow = slow.next\n",
    "            fast = fast.next.next\n",
    "            if slow == fast:\n",
    "                return True\n",
    "        else:\n",
    "            return False\n",
    "\n",
    "    def remove_duplicates(self):\n",
    "        values = []\n",
    "        head = self.head\n",
    "        temp = head\n",
    "        values.append(temp.value)\n",
    "        while temp.next:\n",
    "            temp = temp.next\n",
    "            values.append(temp.value)\n",
    "            if len(set(values)) == len(values):\n",
    "                head.next = temp\n",
    "                head = head.next\n",
    "            else:\n",
    "                self.length -= 1\n",
    "                values.pop()\n",
    "\n",
    "    def find_kth_from_end(self, k):\n",
    "        node_dict = {}\n",
    "        index = 0\n",
    "        temp = self\n",
    "        while temp:\n",
    "            node_dict[index] = temp\n",
    "            temp = temp.next\n",
    "            index += 1\n",
    "        return node_dict.get(index - k)\n",
    "\n",
    "    def print_list(self):\n",
    "        temp = self.head\n",
    "        while temp:\n",
    "            print(temp.value)\n",
    "            temp = temp.next\n",
    "\n",
    "    def __repr__(self):\n",
    "        return f\"LinkedList( head:'{self.head}', tail '{self.tail}', length '{self.length}')\""
   ]
  },
  {
   "cell_type": "code",
   "execution_count": 6,
   "metadata": {},
   "outputs": [
    {
     "data": {
      "text/plain": [
       "True"
      ]
     },
     "execution_count": 6,
     "metadata": {},
     "output_type": "execute_result"
    }
   ],
   "source": [
    "my_linked_list = LinkedList(1)\n",
    "my_linked_list.append(2)\n",
    "my_linked_list.append(3)\n",
    "my_linked_list.append(4)"
   ]
  },
  {
   "cell_type": "code",
   "execution_count": 7,
   "metadata": {},
   "outputs": [
    {
     "data": {
      "text/plain": [
       "Node( value:'3', next 'Node( value:'4', next 'None')')"
      ]
     },
     "execution_count": 7,
     "metadata": {},
     "output_type": "execute_result"
    }
   ],
   "source": [
    "my_linked_list.get(2)"
   ]
  },
  {
   "attachments": {},
   "cell_type": "markdown",
   "metadata": {},
   "source": [
    "## testing the append, make empty, and print list methods"
   ]
  },
  {
   "cell_type": "code",
   "execution_count": 8,
   "metadata": {},
   "outputs": [
    {
     "data": {
      "text/plain": [
       "True"
      ]
     },
     "execution_count": 8,
     "metadata": {},
     "output_type": "execute_result"
    }
   ],
   "source": [
    "my_linked_list = LinkedList(1)\n",
    "my_linked_list.make_empty()\n",
    "\n",
    "my_linked_list.append(1)\n",
    "my_linked_list.append(2)"
   ]
  },
  {
   "cell_type": "code",
   "execution_count": 9,
   "metadata": {},
   "outputs": [
    {
     "name": "stdout",
     "output_type": "stream",
     "text": [
      "Head: 1\n",
      "Tail: 2\n",
      "Length: 2 \n",
      "\n"
     ]
    }
   ],
   "source": [
    "print(\"Head:\", my_linked_list.head.value)\n",
    "print(\"Tail:\", my_linked_list.tail.value)\n",
    "print(\"Length:\", my_linked_list.length, \"\\n\")"
   ]
  },
  {
   "cell_type": "code",
   "execution_count": 10,
   "metadata": {},
   "outputs": [
    {
     "name": "stdout",
     "output_type": "stream",
     "text": [
      "Linked List:\n",
      "1\n",
      "2\n"
     ]
    }
   ],
   "source": [
    "print(\"Linked List:\")\n",
    "my_linked_list.print_list()"
   ]
  },
  {
   "cell_type": "markdown",
   "metadata": {},
   "source": [
    "## testing pop method"
   ]
  },
  {
   "cell_type": "code",
   "execution_count": 11,
   "metadata": {},
   "outputs": [
    {
     "name": "stdout",
     "output_type": "stream",
     "text": [
      "1\n",
      "3\n",
      "4\n",
      "5\n"
     ]
    },
    {
     "data": {
      "text/plain": [
       "4"
      ]
     },
     "execution_count": 11,
     "metadata": {},
     "output_type": "execute_result"
    }
   ],
   "source": [
    "my_linked_list = LinkedList(1)\n",
    "my_linked_list.append(3)\n",
    "my_linked_list.append(4)\n",
    "my_linked_list.append(5)\n",
    "my_linked_list.print_list()\n",
    "my_linked_list.length"
   ]
  },
  {
   "cell_type": "code",
   "execution_count": 12,
   "metadata": {},
   "outputs": [
    {
     "data": {
      "text/plain": [
       "Node( value:'5', next 'None')"
      ]
     },
     "execution_count": 12,
     "metadata": {},
     "output_type": "execute_result"
    }
   ],
   "source": [
    "my_linked_list.pop()"
   ]
  },
  {
   "cell_type": "code",
   "execution_count": 13,
   "metadata": {},
   "outputs": [
    {
     "name": "stdout",
     "output_type": "stream",
     "text": [
      "1\n",
      "3\n",
      "4\n"
     ]
    },
    {
     "data": {
      "text/plain": [
       "3"
      ]
     },
     "execution_count": 13,
     "metadata": {},
     "output_type": "execute_result"
    }
   ],
   "source": [
    "my_linked_list.print_list()\n",
    "my_linked_list.length"
   ]
  },
  {
   "cell_type": "code",
   "execution_count": 14,
   "metadata": {},
   "outputs": [
    {
     "name": "stdout",
     "output_type": "stream",
     "text": [
      "Node( value:'1', next 'None')\n"
     ]
    }
   ],
   "source": [
    "my_linked_list = LinkedList(1)\n",
    "print(my_linked_list.pop())\n",
    "my_linked_list.print_list()"
   ]
  },
  {
   "cell_type": "code",
   "execution_count": 15,
   "metadata": {},
   "outputs": [],
   "source": [
    "my_linked_list = LinkedList(1)\n",
    "my_linked_list.make_empty()\n",
    "my_linked_list.pop()\n",
    "my_linked_list.print_list()"
   ]
  },
  {
   "attachments": {},
   "cell_type": "markdown",
   "metadata": {},
   "source": [
    "## testing prepend"
   ]
  },
  {
   "cell_type": "code",
   "execution_count": 16,
   "metadata": {},
   "outputs": [
    {
     "name": "stdout",
     "output_type": "stream",
     "text": [
      "1\n",
      "3\n",
      "4\n",
      "5\n"
     ]
    },
    {
     "data": {
      "text/plain": [
       "4"
      ]
     },
     "execution_count": 16,
     "metadata": {},
     "output_type": "execute_result"
    }
   ],
   "source": [
    "my_linked_list = LinkedList(1)\n",
    "my_linked_list.append(3)\n",
    "my_linked_list.append(4)\n",
    "my_linked_list.append(5)\n",
    "my_linked_list.print_list()\n",
    "my_linked_list.length"
   ]
  },
  {
   "cell_type": "code",
   "execution_count": 17,
   "metadata": {},
   "outputs": [
    {
     "name": "stdout",
     "output_type": "stream",
     "text": [
      "12\n",
      "1\n",
      "3\n",
      "4\n",
      "5\n"
     ]
    },
    {
     "data": {
      "text/plain": [
       "5"
      ]
     },
     "execution_count": 17,
     "metadata": {},
     "output_type": "execute_result"
    }
   ],
   "source": [
    "my_linked_list.prepend(12)\n",
    "my_linked_list.print_list()\n",
    "my_linked_list.length"
   ]
  },
  {
   "cell_type": "markdown",
   "metadata": {},
   "source": [
    "## testing pop first"
   ]
  },
  {
   "cell_type": "code",
   "execution_count": 18,
   "metadata": {},
   "outputs": [
    {
     "name": "stdout",
     "output_type": "stream",
     "text": [
      "Node( value:'1', next 'None')\n"
     ]
    },
    {
     "data": {
      "text/plain": [
       "LinkedList( head:'None', tail 'None', length '0')"
      ]
     },
     "execution_count": 18,
     "metadata": {},
     "output_type": "execute_result"
    }
   ],
   "source": [
    "my_linked_list = LinkedList(1)\n",
    "print(my_linked_list.pop_first())\n",
    "my_linked_list"
   ]
  },
  {
   "cell_type": "code",
   "execution_count": 19,
   "metadata": {},
   "outputs": [
    {
     "name": "stdout",
     "output_type": "stream",
     "text": [
      "Node( value:'1', next 'None')\n"
     ]
    },
    {
     "data": {
      "text/plain": [
       "LinkedList( head:'Node( value:'3', next 'Node( value:'4', next 'Node( value:'5', next 'None')')')', tail 'Node( value:'5', next 'None')', length '3')"
      ]
     },
     "execution_count": 19,
     "metadata": {},
     "output_type": "execute_result"
    }
   ],
   "source": [
    "my_linked_list = LinkedList(1)\n",
    "my_linked_list.append(3)\n",
    "my_linked_list.append(4)\n",
    "my_linked_list.append(5)\n",
    "print(my_linked_list.pop_first())\n",
    "my_linked_list"
   ]
  },
  {
   "cell_type": "code",
   "execution_count": 20,
   "metadata": {},
   "outputs": [
    {
     "name": "stdout",
     "output_type": "stream",
     "text": [
      "None\n"
     ]
    },
    {
     "data": {
      "text/plain": [
       "LinkedList( head:'None', tail 'None', length '0')"
      ]
     },
     "execution_count": 20,
     "metadata": {},
     "output_type": "execute_result"
    }
   ],
   "source": [
    "my_linked_list.make_empty()\n",
    "print(my_linked_list.pop_first())\n",
    "my_linked_list"
   ]
  },
  {
   "cell_type": "markdown",
   "metadata": {},
   "source": [
    "## testing get method "
   ]
  },
  {
   "cell_type": "code",
   "execution_count": 21,
   "metadata": {},
   "outputs": [
    {
     "name": "stdout",
     "output_type": "stream",
     "text": [
      "Node( value:'4', next 'Node( value:'5', next 'None')')\n"
     ]
    }
   ],
   "source": [
    "my_linked_list = LinkedList(1)\n",
    "my_linked_list.append(3)\n",
    "my_linked_list.append(4)\n",
    "my_linked_list.append(5)\n",
    "print(my_linked_list.get(2))"
   ]
  },
  {
   "cell_type": "markdown",
   "metadata": {},
   "source": [
    "## testing set value"
   ]
  },
  {
   "cell_type": "code",
   "execution_count": 22,
   "metadata": {},
   "outputs": [
    {
     "name": "stdout",
     "output_type": "stream",
     "text": [
      "1\n",
      "3\n",
      "4\n",
      "5\n"
     ]
    }
   ],
   "source": [
    "my_linked_list = LinkedList(1)\n",
    "my_linked_list.append(3)\n",
    "my_linked_list.append(4)\n",
    "my_linked_list.append(5)\n",
    "my_linked_list.print_list()"
   ]
  },
  {
   "cell_type": "code",
   "execution_count": 23,
   "metadata": {},
   "outputs": [
    {
     "name": "stdout",
     "output_type": "stream",
     "text": [
      "1\n",
      "3\n",
      "100000\n",
      "5\n"
     ]
    }
   ],
   "source": [
    "my_linked_list.set_value(index=2, value=100000)\n",
    "my_linked_list.print_list()"
   ]
  },
  {
   "cell_type": "markdown",
   "metadata": {},
   "source": [
    "## testing insert method"
   ]
  },
  {
   "cell_type": "code",
   "execution_count": 24,
   "metadata": {},
   "outputs": [
    {
     "name": "stdout",
     "output_type": "stream",
     "text": [
      "1\n",
      "3\n",
      "100\n",
      "4\n",
      "5\n"
     ]
    }
   ],
   "source": [
    "my_linked_list = LinkedList(1)\n",
    "my_linked_list.append(3)\n",
    "my_linked_list.append(4)\n",
    "my_linked_list.append(5)\n",
    "my_linked_list.insert(index=2, value=100)\n",
    "my_linked_list.print_list()"
   ]
  },
  {
   "cell_type": "code",
   "execution_count": 25,
   "metadata": {},
   "outputs": [
    {
     "data": {
      "text/plain": [
       "True"
      ]
     },
     "execution_count": 25,
     "metadata": {},
     "output_type": "execute_result"
    }
   ],
   "source": [
    "my_linked_list.insert(index=2, value=100)"
   ]
  },
  {
   "cell_type": "markdown",
   "metadata": {},
   "source": [
    "## testing remove method"
   ]
  },
  {
   "cell_type": "code",
   "execution_count": 34,
   "metadata": {},
   "outputs": [
    {
     "name": "stdout",
     "output_type": "stream",
     "text": [
      "LL before remove():\n",
      "1\n",
      "2\n",
      "3\n",
      "4\n",
      "5\n",
      "\n",
      "Removed node:\n",
      "3\n",
      "LL after remove() in middle:\n",
      "1\n",
      "2\n",
      "4\n",
      "5\n",
      "\n",
      "Removed node:\n",
      "1\n",
      "LL after remove() of first node:\n",
      "2\n",
      "4\n",
      "5\n",
      "\n",
      "Removed node:\n",
      "5\n",
      "LL after remove() of last node:\n",
      "2\n",
      "4\n"
     ]
    }
   ],
   "source": [
    "my_linked_list = LinkedList(1)\n",
    "my_linked_list.append(2)\n",
    "my_linked_list.append(3)\n",
    "my_linked_list.append(4)\n",
    "my_linked_list.append(5)\n",
    "\n",
    "print(\"LL before remove():\")\n",
    "my_linked_list.print_list()\n",
    "\n",
    "print(\"\\nRemoved node:\")\n",
    "print(my_linked_list.remove(2).value)\n",
    "print(\"LL after remove() in middle:\")\n",
    "my_linked_list.print_list()\n",
    "\n",
    "print(\"\\nRemoved node:\")\n",
    "print(my_linked_list.remove(0).value)\n",
    "print(\"LL after remove() of first node:\")\n",
    "my_linked_list.print_list()\n",
    "\n",
    "print(\"\\nRemoved node:\")\n",
    "print(my_linked_list.remove(2).value)\n",
    "print(\"LL after remove() of last node:\")\n",
    "my_linked_list.print_list()"
   ]
  },
  {
   "cell_type": "code",
   "execution_count": 100,
   "metadata": {},
   "outputs": [
    {
     "data": {
      "text/plain": [
       "True"
      ]
     },
     "execution_count": 100,
     "metadata": {},
     "output_type": "execute_result"
    }
   ],
   "source": [
    "my_linked_list = LinkedList(1)\n",
    "my_linked_list.append(2)\n",
    "my_linked_list.append(3)\n",
    "my_linked_list.append(4)\n",
    "my_linked_list.append(5)\n",
    "my_linked_list.append(6)\n",
    "my_linked_list.append(7)"
   ]
  },
  {
   "cell_type": "code",
   "execution_count": 101,
   "metadata": {},
   "outputs": [
    {
     "data": {
      "text/plain": [
       "Node( value:'5', next 'None')"
      ]
     },
     "execution_count": 101,
     "metadata": {},
     "output_type": "execute_result"
    }
   ],
   "source": [
    "my_linked_list.remove(index=4)"
   ]
  },
  {
   "cell_type": "markdown",
   "metadata": {},
   "source": [
    "## testing reverse"
   ]
  },
  {
   "cell_type": "code",
   "execution_count": 90,
   "metadata": {},
   "outputs": [
    {
     "name": "stdout",
     "output_type": "stream",
     "text": [
      "LL before reverse():\n",
      "1\n",
      "2\n",
      "3\n",
      "4\n",
      "\n",
      "LL after reverse():\n",
      "4\n",
      "3\n",
      "2\n",
      "1\n"
     ]
    }
   ],
   "source": [
    "my_linked_list = LinkedList(1)\n",
    "my_linked_list.append(2)\n",
    "my_linked_list.append(3)\n",
    "my_linked_list.append(4)\n",
    "\n",
    "print(\"LL before reverse():\")\n",
    "my_linked_list.print_list()\n",
    "\n",
    "my_linked_list.reverse()\n",
    "\n",
    "print(\"\\nLL after reverse():\")\n",
    "my_linked_list.print_list()"
   ]
  },
  {
   "cell_type": "markdown",
   "metadata": {},
   "source": [
    "## testing find middle node"
   ]
  },
  {
   "cell_type": "code",
   "execution_count": 118,
   "metadata": {},
   "outputs": [
    {
     "name": "stdout",
     "output_type": "stream",
     "text": [
      "Node( value:'4', next 'Node( value:'5', next 'Node( value:'1', next 'None')')')\n"
     ]
    }
   ],
   "source": [
    "my_linked_list = LinkedList(1)\n",
    "my_linked_list.append(2)\n",
    "my_linked_list.append(3)\n",
    "my_linked_list.append(4)\n",
    "my_linked_list.append(5)\n",
    "my_linked_list.append(1)\n",
    "\n",
    "\n",
    "print(my_linked_list.find_middle_node())"
   ]
  },
  {
   "cell_type": "code",
   "execution_count": 102,
   "metadata": {},
   "outputs": [
    {
     "data": {
      "text/plain": [
       "True"
      ]
     },
     "execution_count": 102,
     "metadata": {},
     "output_type": "execute_result"
    }
   ],
   "source": [
    "my_linked_list = LinkedList(1)\n",
    "my_linked_list.append(2)\n",
    "my_linked_list.append(3)\n",
    "# print(my_linked_list.find_middle_node().value)"
   ]
  },
  {
   "cell_type": "markdown",
   "metadata": {},
   "source": [
    "## testing has loop"
   ]
  },
  {
   "cell_type": "code",
   "execution_count": 122,
   "metadata": {},
   "outputs": [
    {
     "name": "stdout",
     "output_type": "stream",
     "text": [
      "True\n",
      "False\n"
     ]
    }
   ],
   "source": [
    "my_linked_list_1 = LinkedList(1)\n",
    "my_linked_list_1.append(2)\n",
    "my_linked_list_1.append(3)\n",
    "my_linked_list_1.append(4)\n",
    "my_linked_list_1.tail.next = my_linked_list_1.head\n",
    "print(my_linked_list_1.has_loop())  # Returns True\n",
    "\n",
    "\n",
    "my_linked_list_2 = LinkedList(1)\n",
    "my_linked_list_2.append(2)\n",
    "my_linked_list_2.append(3)\n",
    "my_linked_list_2.append(4)\n",
    "print(my_linked_list_2.has_loop())  # Returns False"
   ]
  },
  {
   "cell_type": "markdown",
   "metadata": {},
   "source": [
    "## testing remove duplicates"
   ]
  },
  {
   "cell_type": "code",
   "execution_count": 141,
   "metadata": {},
   "outputs": [
    {
     "name": "stdout",
     "output_type": "stream",
     "text": [
      "1\n",
      "2\n",
      "3\n",
      "4\n"
     ]
    }
   ],
   "source": [
    "my_linked_list = LinkedList(1)\n",
    "my_linked_list.append(2)\n",
    "my_linked_list.append(3)\n",
    "my_linked_list.append(2)\n",
    "my_linked_list.append(4)\n",
    "my_linked_list.remove_duplicates()\n",
    "my_linked_list.print_list()"
   ]
  },
  {
   "cell_type": "code",
   "execution_count": 158,
   "metadata": {},
   "outputs": [
    {
     "name": "stdout",
     "output_type": "stream",
     "text": [
      "2\n"
     ]
    }
   ],
   "source": [
    "my_linked_list = LinkedList(1)\n",
    "my_linked_list.append(2)\n",
    "my_linked_list.append(3)\n",
    "my_linked_list.append(4)\n",
    "my_linked_list.append(5)\n",
    "\n",
    "\n",
    "k = 4\n",
    "result = LinkedList.find_kth_from_end(my_linked_list.head, k)\n",
    "\n",
    "print(result.value)"
   ]
  },
  {
   "cell_type": "code",
   "execution_count": 159,
   "metadata": {},
   "outputs": [
    {
     "data": {
      "text/plain": [
       "Node( value:'1', next 'Node( value:'2', next 'Node( value:'3', next 'Node( value:'4', next 'Node( value:'5', next 'None')')')')')"
      ]
     },
     "execution_count": 159,
     "metadata": {},
     "output_type": "execute_result"
    }
   ],
   "source": [
    "my_linked_list.head"
   ]
  }
 ],
 "metadata": {
  "kernelspec": {
   "display_name": "venv",
   "language": "python",
   "name": "python3"
  },
  "language_info": {
   "codemirror_mode": {
    "name": "ipython",
    "version": 3
   },
   "file_extension": ".py",
   "mimetype": "text/x-python",
   "name": "python",
   "nbconvert_exporter": "python",
   "pygments_lexer": "ipython3",
   "version": "3.10.8"
  },
  "orig_nbformat": 4,
  "vscode": {
   "interpreter": {
    "hash": "e21ce834497d1478e189af80584bfd1d06f92d53aa5d0cc1a691c0b63e72c86f"
   }
  }
 },
 "nbformat": 4,
 "nbformat_minor": 2
}
