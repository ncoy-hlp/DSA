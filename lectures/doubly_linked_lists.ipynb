{
 "cells": [
  {
   "cell_type": "code",
   "execution_count": 1,
   "metadata": {},
   "outputs": [],
   "source": [
    "%load_ext lab_black"
   ]
  },
  {
   "cell_type": "markdown",
   "metadata": {},
   "source": [
    "# overview"
   ]
  },
  {
   "cell_type": "code",
   "execution_count": 2,
   "metadata": {},
   "outputs": [],
   "source": [
    "# doubly linked lists are like linked lists\n",
    "# except that there are pointers pointing in both\n",
    "# directions"
   ]
  },
  {
   "cell_type": "markdown",
   "metadata": {},
   "source": [
    "# Constructor"
   ]
  },
  {
   "cell_type": "code",
   "execution_count": 53,
   "metadata": {},
   "outputs": [],
   "source": [
    "# create a class for the nodes in the linked list\n",
    "# as well as the linked list it's self\n",
    "# the methods of the linked list will call on the\n",
    "# class node\n",
    "\n",
    "\n",
    "class Node:\n",
    "    def __init__(self, value, prev=None):\n",
    "        self.value = value\n",
    "        self.next = None\n",
    "        self.prev = prev\n",
    "\n",
    "    def __repr__(self):\n",
    "        return (\n",
    "            f\"Node( value:'{self.value}', next '{self.next}', previous '{self.prev}')\"\n",
    "        )\n",
    "\n",
    "\n",
    "class DoublyLinkedList:\n",
    "    def __init__(self, value):\n",
    "        new_node = Node(value)\n",
    "        self.head = new_node\n",
    "        self.tail = new_node\n",
    "        self.length = 1\n",
    "\n",
    "    def print_list(self):\n",
    "        temp = self.head\n",
    "        while temp:\n",
    "            print(temp.value)\n",
    "            temp = temp.next\n",
    "\n",
    "    def append(self, value):\n",
    "        new_node = Node(value=value)\n",
    "        if self.head == None:\n",
    "            self.head = new_node\n",
    "            self.tail = new_node\n",
    "        else:\n",
    "            self.tail.next = new_node\n",
    "            new_node.prev = self.tail\n",
    "            self.tail = new_node\n",
    "        self.length += 1\n",
    "        return True\n",
    "\n",
    "    def pop(self):\n",
    "        if self.length == 0:\n",
    "            return None\n",
    "        temp = self.tail\n",
    "        if self.length == 1:\n",
    "            self.head = None\n",
    "            self.tail = None\n",
    "        else:\n",
    "            self.tail = self.tail.prev\n",
    "            self.tail.next = None\n",
    "            temp.prev = None\n",
    "        self.length -= 1\n",
    "        return temp\n",
    "\n",
    "    def prepend(self, value):\n",
    "        new_node = Node(value=value)\n",
    "        if self.length == 0:\n",
    "            self.head = new_node\n",
    "            self.tail = new_node\n",
    "        else:\n",
    "            new_node.next = self.head\n",
    "            self.head.prev = new_node\n",
    "            self.head = new_node\n",
    "        self.length += 1\n",
    "        return True\n",
    "\n",
    "    def pop_first(self):\n",
    "        if self.length == 0:\n",
    "            return None\n",
    "        temp = self.head\n",
    "        if self.length == 1:\n",
    "            self.head = None\n",
    "            self.tail = None\n",
    "        else:\n",
    "            self.head = temp.next\n",
    "            self.head.prev = None\n",
    "            temp.next = None\n",
    "        self.length -= 1\n",
    "        return temp\n",
    "\n",
    "    def get(self, index):\n",
    "        if index < 0 or index >= self.length:\n",
    "            return None\n",
    "        temp = self.head\n",
    "        if index < self.length / 2:\n",
    "            for _ in range(index):\n",
    "                temp = temp.next\n",
    "        else:\n",
    "            temp = self.tail\n",
    "            for _ in range(self.length - 1, index, -1):\n",
    "                temp = temp.prev\n",
    "        return temp\n",
    "\n",
    "    def set_value(self, index, value):\n",
    "        temp = self.get(index)\n",
    "        if temp:\n",
    "            temp.value = value\n",
    "            return True\n",
    "        return False\n",
    "\n",
    "    def insert(self, index, value):\n",
    "        if index < 0 or index > self.length:\n",
    "            return False\n",
    "        if index == 0:\n",
    "            return self.prepend(value)\n",
    "        if index == self.length:\n",
    "            return self.append(value)\n",
    "\n",
    "        new_node = Node(value)\n",
    "        before = self.get(index - 1)\n",
    "        after = before.next\n",
    "\n",
    "        new_node.prev = before\n",
    "        new_node.next = after\n",
    "        before.next = new_node\n",
    "        after.prev = new_node\n",
    "\n",
    "        self.length += 1\n",
    "        return True\n",
    "\n",
    "    def remove(self, index):\n",
    "        if index < 0 or index >= self.length:\n",
    "            return None\n",
    "        if index == 0:\n",
    "            return self.pop_first()\n",
    "        if index == self.length - 1:\n",
    "            return self.pop()\n",
    "\n",
    "        temp = self.get(index)\n",
    "\n",
    "        temp.next.prev = temp.prev\n",
    "        temp.prev.next = temp.next\n",
    "        temp.next = None\n",
    "        temp.prev = None\n",
    "\n",
    "        self.length -= 1\n",
    "        return temp\n",
    "\n",
    "    def swap_first_last(self):\n",
    "        if self.length == 0:\n",
    "            pass\n",
    "        if self.length == 1:\n",
    "            pass\n",
    "        head = self.head\n",
    "        tail = self.tail\n",
    "        head.prev = tail.prev\n",
    "        head.prev.next = tail\n",
    "        tail.next = head.next\n",
    "        tail.prev.next = head\n",
    "        head.next = None\n",
    "        tail.prev = None\n",
    "        self.head = tail\n",
    "        self.tail = head\n",
    "\n",
    "    def reverse(self):\n",
    "        temp = self.head\n",
    "        while temp is not None:\n",
    "            # swap the prev and next pointers of node points to\n",
    "            temp.prev, temp.next = temp.next, temp.prev\n",
    "            \n",
    "            # move to the next node\n",
    "            temp = temp.prev\n",
    "            \n",
    "        # swap the head and tail pointers\n",
    "        self.head, self.tail = self.tail, self.head\n",
    "\n",
    "    def is_palindrome(self):\n",
    "        left = self.head\n",
    "        right = self.tail\n",
    "        for i in range(self.length -1):\n",
    "            if left.value == right.value:\n",
    "                left = left.next\n",
    "                right = right.prev\n",
    "            else:\n",
    "                return False\n",
    "        return True\n"
   ]
  },
  {
   "cell_type": "markdown",
   "metadata": {},
   "source": [
    "## testing constructor"
   ]
  },
  {
   "cell_type": "code",
   "execution_count": 4,
   "metadata": {},
   "outputs": [
    {
     "name": "stdout",
     "output_type": "stream",
     "text": [
      "7\n"
     ]
    }
   ],
   "source": [
    "my_doubly_linked_list = DoublyLinkedList(7)\n",
    "my_doubly_linked_list.print_list()"
   ]
  },
  {
   "cell_type": "markdown",
   "metadata": {},
   "source": [
    "## testing append"
   ]
  },
  {
   "cell_type": "code",
   "execution_count": 5,
   "metadata": {},
   "outputs": [
    {
     "name": "stdout",
     "output_type": "stream",
     "text": [
      "7\n",
      "2\n",
      "3\n",
      "4\n"
     ]
    }
   ],
   "source": [
    "my_doubly_linked_list = DoublyLinkedList(7)\n",
    "my_doubly_linked_list.append(2)\n",
    "my_doubly_linked_list.append(3)\n",
    "my_doubly_linked_list.append(4)\n",
    "my_doubly_linked_list.print_list()"
   ]
  },
  {
   "cell_type": "markdown",
   "metadata": {},
   "source": [
    "## testing pop"
   ]
  },
  {
   "cell_type": "code",
   "execution_count": 6,
   "metadata": {},
   "outputs": [
    {
     "name": "stdout",
     "output_type": "stream",
     "text": [
      "2\n",
      "1\n",
      "None\n"
     ]
    }
   ],
   "source": [
    "my_doubly_linked_list = DoublyLinkedList(1)\n",
    "my_doubly_linked_list.append(2)\n",
    "\n",
    "\n",
    "# (2) Items - Returns 2 Node\n",
    "print(my_doubly_linked_list.pop().value)\n",
    "# (1) Item -  Returns 1 Node\n",
    "print(my_doubly_linked_list.pop().value)\n",
    "# (0) Items - Returns None\n",
    "print(my_doubly_linked_list.pop())"
   ]
  },
  {
   "cell_type": "markdown",
   "metadata": {},
   "source": [
    "## testing prepend"
   ]
  },
  {
   "cell_type": "code",
   "execution_count": 7,
   "metadata": {},
   "outputs": [
    {
     "name": "stdout",
     "output_type": "stream",
     "text": [
      "Before prepend():\n",
      "----------------\n",
      "Head: 2\n",
      "Tail: 3\n",
      "Length: 2 \n",
      "\n",
      "Doubly Linked List:\n",
      "2\n",
      "3\n",
      "\n",
      "\n",
      "After prepend():\n",
      "---------------\n",
      "Head: 1\n",
      "Tail: 3\n",
      "Length: 3 \n",
      "\n",
      "Doubly Linked List:\n",
      "1\n",
      "2\n",
      "3\n"
     ]
    }
   ],
   "source": [
    "my_doubly_linked_list = DoublyLinkedList(2)\n",
    "my_doubly_linked_list.append(3)\n",
    "\n",
    "print(\"Before prepend():\")\n",
    "print(\"----------------\")\n",
    "print(\"Head:\", my_doubly_linked_list.head.value)\n",
    "print(\"Tail:\", my_doubly_linked_list.tail.value)\n",
    "print(\"Length:\", my_doubly_linked_list.length, \"\\n\")\n",
    "print(\"Doubly Linked List:\")\n",
    "my_doubly_linked_list.print_list()\n",
    "\n",
    "\n",
    "my_doubly_linked_list.prepend(1)\n",
    "\n",
    "\n",
    "print(\"\\n\\nAfter prepend():\")\n",
    "print(\"---------------\")\n",
    "print(\"Head:\", my_doubly_linked_list.head.value)\n",
    "print(\"Tail:\", my_doubly_linked_list.tail.value)\n",
    "print(\"Length:\", my_doubly_linked_list.length, \"\\n\")\n",
    "print(\"Doubly Linked List:\")\n",
    "my_doubly_linked_list.print_list()"
   ]
  },
  {
   "cell_type": "markdown",
   "metadata": {},
   "source": [
    "## testing pop first"
   ]
  },
  {
   "cell_type": "code",
   "execution_count": 8,
   "metadata": {},
   "outputs": [
    {
     "name": "stdout",
     "output_type": "stream",
     "text": [
      "2\n",
      "1\n",
      "None\n"
     ]
    }
   ],
   "source": [
    "my_doubly_linked_list = DoublyLinkedList(2)\n",
    "my_doubly_linked_list.append(1)\n",
    "\n",
    "\n",
    "# (2) Items - Returns 2 Node\n",
    "print(my_doubly_linked_list.pop_first().value)\n",
    "# (1) Item -  Returns 1 Node\n",
    "print(my_doubly_linked_list.pop_first().value)\n",
    "# (0) Items - Returns None\n",
    "print(my_doubly_linked_list.pop_first())"
   ]
  },
  {
   "cell_type": "markdown",
   "metadata": {},
   "source": [
    "## testing get"
   ]
  },
  {
   "cell_type": "code",
   "execution_count": 9,
   "metadata": {},
   "outputs": [
    {
     "name": "stdout",
     "output_type": "stream",
     "text": [
      "Get node from first half of DLL:\n",
      "1\n",
      "\n",
      "Get node from second half of DLL:\n",
      "2\n"
     ]
    }
   ],
   "source": [
    "my_doubly_linked_list = DoublyLinkedList(0)\n",
    "my_doubly_linked_list.append(1)\n",
    "my_doubly_linked_list.append(2)\n",
    "my_doubly_linked_list.append(3)\n",
    "\n",
    "print(\"Get node from first half of DLL:\")\n",
    "print(my_doubly_linked_list.get(1).value)\n",
    "\n",
    "print(\"\\nGet node from second half of DLL:\")\n",
    "print(my_doubly_linked_list.get(2).value)"
   ]
  },
  {
   "cell_type": "markdown",
   "metadata": {},
   "source": [
    "## testing set value"
   ]
  },
  {
   "cell_type": "code",
   "execution_count": 10,
   "metadata": {},
   "outputs": [
    {
     "name": "stdout",
     "output_type": "stream",
     "text": [
      "DLL before set_value():\n",
      "11\n",
      "3\n",
      "23\n",
      "7\n",
      "\n",
      "DLL after set_value():\n",
      "11\n",
      "4\n",
      "23\n",
      "7\n"
     ]
    }
   ],
   "source": [
    "my_doubly_linked_list = DoublyLinkedList(11)\n",
    "my_doubly_linked_list.append(3)\n",
    "my_doubly_linked_list.append(23)\n",
    "my_doubly_linked_list.append(7)\n",
    "\n",
    "print(\"DLL before set_value():\")\n",
    "my_doubly_linked_list.print_list()\n",
    "\n",
    "my_doubly_linked_list.set_value(1, 4)\n",
    "\n",
    "print(\"\\nDLL after set_value():\")\n",
    "my_doubly_linked_list.print_list()"
   ]
  },
  {
   "cell_type": "markdown",
   "metadata": {},
   "source": [
    "## testing insert"
   ]
  },
  {
   "cell_type": "code",
   "execution_count": 11,
   "metadata": {},
   "outputs": [
    {
     "name": "stdout",
     "output_type": "stream",
     "text": [
      "DLL before insert():\n",
      "1\n",
      "3\n",
      "\n",
      "DLL after insert(2) in middle:\n",
      "1\n",
      "2\n",
      "3\n",
      "\n",
      "DLL after insert(0) at beginning:\n",
      "0\n",
      "1\n",
      "2\n",
      "3\n",
      "\n",
      "DLL after insert(4) at end:\n",
      "0\n",
      "1\n",
      "2\n",
      "3\n",
      "4\n"
     ]
    }
   ],
   "source": [
    "my_doubly_linked_list = DoublyLinkedList(1)\n",
    "my_doubly_linked_list.append(3)\n",
    "\n",
    "\n",
    "print(\"DLL before insert():\")\n",
    "my_doubly_linked_list.print_list()\n",
    "\n",
    "\n",
    "my_doubly_linked_list.insert(1, 2)\n",
    "\n",
    "print(\"\\nDLL after insert(2) in middle:\")\n",
    "my_doubly_linked_list.print_list()\n",
    "\n",
    "\n",
    "my_doubly_linked_list.insert(0, 0)\n",
    "\n",
    "print(\"\\nDLL after insert(0) at beginning:\")\n",
    "my_doubly_linked_list.print_list()\n",
    "\n",
    "\n",
    "my_doubly_linked_list.insert(4, 4)\n",
    "\n",
    "print(\"\\nDLL after insert(4) at end:\")\n",
    "my_doubly_linked_list.print_list()"
   ]
  },
  {
   "cell_type": "markdown",
   "metadata": {},
   "source": [
    "## testing remove"
   ]
  },
  {
   "cell_type": "code",
   "execution_count": 19,
   "metadata": {},
   "outputs": [
    {
     "name": "stdout",
     "output_type": "stream",
     "text": [
      "DLL before remove():\n",
      "1\n",
      "2\n",
      "3\n",
      "4\n",
      "5\n",
      "\n",
      "Removed node:\n",
      "3\n",
      "DLL after remove() in middle:\n",
      "1\n",
      "2\n",
      "4\n",
      "5\n",
      "\n",
      "Removed node:\n",
      "1\n",
      "DLL after remove() of first node:\n",
      "2\n",
      "4\n",
      "5\n",
      "\n",
      "Removed node:\n",
      "5\n",
      "DLL after remove() of last node:\n",
      "2\n",
      "4\n"
     ]
    }
   ],
   "source": [
    "my_doubly_linked_list = DoublyLinkedList(1)\n",
    "my_doubly_linked_list.append(2)\n",
    "my_doubly_linked_list.append(3)\n",
    "my_doubly_linked_list.append(4)\n",
    "my_doubly_linked_list.append(5)\n",
    "\n",
    "print(\"DLL before remove():\")\n",
    "my_doubly_linked_list.print_list()\n",
    "\n",
    "print(\"\\nRemoved node:\")\n",
    "print(my_doubly_linked_list.remove(2).value)\n",
    "print(\"DLL after remove() in middle:\")\n",
    "my_doubly_linked_list.print_list()\n",
    "\n",
    "print(\"\\nRemoved node:\")\n",
    "print(my_doubly_linked_list.remove(0).value)\n",
    "print(\"DLL after remove() of first node:\")\n",
    "my_doubly_linked_list.print_list()\n",
    "\n",
    "print(\"\\nRemoved node:\")\n",
    "print(my_doubly_linked_list.remove(2).value)\n",
    "print(\"DLL after remove() of last node:\")\n",
    "my_doubly_linked_list.print_list()"
   ]
  },
  {
   "cell_type": "markdown",
   "metadata": {},
   "source": [
    "## testing swap first and last node"
   ]
  },
  {
   "cell_type": "code",
   "execution_count": 23,
   "metadata": {},
   "outputs": [
    {
     "name": "stdout",
     "output_type": "stream",
     "text": [
      "DLL before swap_first_last():\n",
      "1\n",
      "2\n",
      "3\n",
      "4\n",
      "\n",
      "DLL after swap_first_last():\n",
      "4\n",
      "2\n",
      "3\n",
      "1\n"
     ]
    }
   ],
   "source": [
    "my_doubly_linked_list = DoublyLinkedList(1)\n",
    "my_doubly_linked_list.append(2)\n",
    "my_doubly_linked_list.append(3)\n",
    "my_doubly_linked_list.append(4)\n",
    "\n",
    "\n",
    "print(\"DLL before swap_first_last():\")\n",
    "my_doubly_linked_list.print_list()\n",
    "\n",
    "\n",
    "my_doubly_linked_list.swap_first_last()\n",
    "\n",
    "\n",
    "print(\"\\nDLL after swap_first_last():\")\n",
    "my_doubly_linked_list.print_list()"
   ]
  },
  {
   "cell_type": "markdown",
   "metadata": {},
   "source": [
    "## testing reverse"
   ]
  },
  {
   "cell_type": "code",
   "execution_count": 44,
   "metadata": {},
   "outputs": [
    {
     "name": "stdout",
     "output_type": "stream",
     "text": [
      "DLL before reverse():\n",
      "1\n",
      "2\n",
      "3\n",
      "4\n",
      "5\n",
      "\n",
      "DLL after reverse():\n",
      "5\n",
      "4\n",
      "3\n",
      "2\n",
      "1\n"
     ]
    }
   ],
   "source": [
    "my_doubly_linked_list = DoublyLinkedList(1)\n",
    "my_doubly_linked_list.append(2)\n",
    "my_doubly_linked_list.append(3)\n",
    "my_doubly_linked_list.append(4)\n",
    "my_doubly_linked_list.append(5)\n",
    "\n",
    "\n",
    "print('DLL before reverse():')\n",
    "my_doubly_linked_list.print_list()\n",
    "\n",
    "\n",
    "my_doubly_linked_list.reverse()\n",
    "\n",
    "\n",
    "print('\\nDLL after reverse():')\n",
    "my_doubly_linked_list.print_list()"
   ]
  },
  {
   "cell_type": "code",
   "execution_count": 54,
   "metadata": {},
   "outputs": [
    {
     "name": "stdout",
     "output_type": "stream",
     "text": [
      "my_dll_1 is_palindrome:\n",
      "True\n",
      "\n",
      "my_dll_2 is_palindrome:\n",
      "False\n"
     ]
    }
   ],
   "source": [
    "my_dll_1 = DoublyLinkedList(1)\n",
    "my_dll_1.append(2)\n",
    "my_dll_1.append(3)\n",
    "my_dll_1.append(2)\n",
    "my_dll_1.append(1)\n",
    "\n",
    "print('my_dll_1 is_palindrome:')\n",
    "print( my_dll_1.is_palindrome() )\n",
    "\n",
    "\n",
    "my_dll_2 = DoublyLinkedList(1)\n",
    "my_dll_2.append(2)\n",
    "my_dll_2.append(3)\n",
    "\n",
    "print('\\nmy_dll_2 is_palindrome:')\n",
    "print( my_dll_2.is_palindrome() )"
   ]
  },
  {
   "cell_type": "code",
   "execution_count": null,
   "metadata": {},
   "outputs": [],
   "source": []
  }
 ],
 "metadata": {
  "kernelspec": {
   "display_name": "venv",
   "language": "python",
   "name": "python3"
  },
  "language_info": {
   "codemirror_mode": {
    "name": "ipython",
    "version": 3
   },
   "file_extension": ".py",
   "mimetype": "text/x-python",
   "name": "python",
   "nbconvert_exporter": "python",
   "pygments_lexer": "ipython3",
   "version": "3.10.8"
  },
  "orig_nbformat": 4,
  "vscode": {
   "interpreter": {
    "hash": "e21ce834497d1478e189af80584bfd1d06f92d53aa5d0cc1a691c0b63e72c86f"
   }
  }
 },
 "nbformat": 4,
 "nbformat_minor": 2
}
